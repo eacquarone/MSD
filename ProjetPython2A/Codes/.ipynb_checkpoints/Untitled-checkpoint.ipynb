{
 "cells": [
  {
   "cell_type": "code",
   "execution_count": 5,
   "metadata": {
    "collapsed": false
   },
   "outputs": [],
   "source": [
    "import hdf5_getters as hd\n",
    "\n",
    "base = hdf5_getters.open_h5_file_read(\"C:\\\\Users\\Enguérand\\Documents\\ProjetPython2A\\dataset\\millionsongsubset_full\\MillionSongSubset\\data\\A\\A\\A\\TRAAAAW128F429D538.h5\")"
   ]
  },
  {
   "cell_type": "code",
   "execution_count": 6,
   "metadata": {
    "collapsed": true
   },
   "outputs": [],
   "source": [
    "title = hd.get_title(base)"
   ]
  },
  {
   "cell_type": "code",
   "execution_count": 9,
   "metadata": {
    "collapsed": false
   },
   "outputs": [],
   "source": [
    "hotness = hd.get_artist_hotttnesss(base)"
   ]
  },
  {
   "cell_type": "code",
   "execution_count": 10,
   "metadata": {
    "collapsed": false
   },
   "outputs": [
    {
     "data": {
      "text/plain": [
       "0.40199754336428362"
      ]
     },
     "execution_count": 10,
     "metadata": {},
     "output_type": "execute_result"
    }
   ],
   "source": [
    "hotness"
   ]
  },
  {
   "cell_type": "code",
   "execution_count": 13,
   "metadata": {
    "collapsed": false
   },
   "outputs": [
    {
     "data": {
      "text/plain": [
       "b'Casual'"
      ]
     },
     "execution_count": 13,
     "metadata": {},
     "output_type": "execute_result"
    }
   ],
   "source": [
    "artiste = hd.get_artist_name(base)\n",
    "artiste"
   ]
  },
  {
   "cell_type": "code",
   "execution_count": 86,
   "metadata": {
    "collapsed": false
   },
   "outputs": [],
   "source": [
    "import os\n",
    "import glob\n",
    "import hdf5_getters\n",
    "import pandas as pd\n",
    "\n",
    "def get_all_titles(basedir,ext='.h5') :\n",
    "    titles = []\n",
    "    i = 0\n",
    "    for root, dirs, files in os.walk(basedir):\n",
    "        if i % 20 == 0:\n",
    "            print(i)\n",
    "        files = glob.glob(os.path.join(root,'*'+ext))\n",
    "        for f in files:\n",
    "            d = {}\n",
    "            h5 = hdf5_getters.open_h5_file_read(f)\n",
    "            d[\"nom\"] = ( hdf5_getters.get_title(h5) )\n",
    "            titles.append(d)\n",
    "            h5.close()\n",
    "        i +=1\n",
    "    return pd.DataFrame(titles)\n",
    "\n",
    "def get_infos(basedir,ext='.h5'):\n",
    "    df = []\n",
    "    i = 0\n",
    "    for root, dirs, files in os.walk(basedir):\n",
    "        if i %20 == 0:\n",
    "            print(i)\n",
    "        files = glob.glob(os.path.join(root,'*'+ext))\n",
    "        for f in files:\n",
    "            d = {}\n",
    "            h5 = hdf5_getters.open_h5_file_read(f)\n",
    "            d[\"nom chanson\"] = (hd.get_title(h5))\n",
    "            d[\"nom artiste\"] = (hd.get_artist_name(h5))\n",
    "            d[\"Popularité\"] = (hd.get_artist_hotttnesss(h5))\n",
    "            d[\"Clé\"] = (hd.get_key(h5))\n",
    "            d[\"Durée\"] = (hd.get_duration(h5))\n",
    "            d[\"Fin du fondu\"] = (hd.get_end_of_fade_in(h5))\n",
    "            d[\"Intensité\"] = (hd.get_loudness(h5))\n",
    "            d[\"Mode\"] = (hd.get_mode(h5))\n",
    "            d[\"Nom Album\"] = (hd.get_release(h5))\n",
    "            d[\"Fondu de fin\"] = (hd.get_start_of_fade_out(h5))\n",
    "            d[\"Tempo\"] = (hd.get_tempo(h5))\n",
    "            d[\"Signature Temporelle\"] = (hd.get_time_signature(h5))\n",
    "            d[\"Année\"] = (hd.get_year(h5))\n",
    "            df.append(d)\n",
    "            h5.close()\n",
    "        i+=1\n",
    "    return pd.DataFrame(df)"
   ]
  },
  {
   "cell_type": "code",
   "execution_count": 34,
   "metadata": {
    "collapsed": false
   },
   "outputs": [],
   "source": [
    "import sys\n"
   ]
  },
  {
   "cell_type": "code",
   "execution_count": 87,
   "metadata": {
    "collapsed": false
   },
   "outputs": [
    {
     "name": "stdout",
     "output_type": "stream",
     "text": [
      "0\n",
      "20\n",
      "40\n",
      "60\n",
      "80\n",
      "100\n",
      "120\n",
      "140\n",
      "160\n",
      "180\n",
      "200\n",
      "220\n",
      "240\n",
      "260\n",
      "280\n",
      "300\n",
      "320\n",
      "340\n",
      "360\n",
      "380\n",
      "400\n",
      "420\n",
      "440\n",
      "460\n",
      "480\n",
      "500\n",
      "520\n",
      "540\n",
      "560\n",
      "580\n",
      "600\n",
      "620\n",
      "640\n",
      "660\n",
      "680\n",
      "700\n",
      "720\n",
      "740\n",
      "760\n",
      "780\n",
      "800\n",
      "820\n",
      "840\n",
      "860\n",
      "880\n",
      "900\n",
      "920\n"
     ]
    }
   ],
   "source": [
    "+df = get_infos(\"C:\\\\Users\\Enguérand\\Documents\\ProjetPython2A\\dataset\\millionsongsubset_full\\MillionSongSubset\\data\")"
   ]
  },
  {
   "cell_type": "code",
   "execution_count": 84,
   "metadata": {
    "collapsed": false,
    "scrolled": true
   },
   "outputs": [],
   "source": [
    "df2 = df.groupby([\"Popularité\",\"nom artiste\"]).mean()\n",
    "df.to_csv(\"base_de_depart.csv\")\n"
   ]
  },
  {
   "cell_type": "code",
   "execution_count": 88,
   "metadata": {
    "collapsed": false
   },
   "outputs": [
    {
     "data": {
      "text/html": [
       "<div>\n",
       "<table border=\"1\" class=\"dataframe\">\n",
       "  <thead>\n",
       "    <tr style=\"text-align: right;\">\n",
       "      <th></th>\n",
       "      <th>Année</th>\n",
       "      <th>Clé</th>\n",
       "      <th>Durée</th>\n",
       "      <th>Fin du fondu</th>\n",
       "      <th>Fondu de fin</th>\n",
       "      <th>Intensité</th>\n",
       "      <th>Mode</th>\n",
       "      <th>Nom Album</th>\n",
       "      <th>Popularité</th>\n",
       "      <th>Signature Temporelle</th>\n",
       "      <th>Tempo</th>\n",
       "      <th>nom artiste</th>\n",
       "      <th>nom chanson</th>\n",
       "    </tr>\n",
       "  </thead>\n",
       "  <tbody>\n",
       "    <tr>\n",
       "      <th>0</th>\n",
       "      <td>0</td>\n",
       "      <td>1</td>\n",
       "      <td>218.93179</td>\n",
       "      <td>0.247</td>\n",
       "      <td>218.932</td>\n",
       "      <td>-11.197</td>\n",
       "      <td>0</td>\n",
       "      <td>b'Fear Itself'</td>\n",
       "      <td>0.401998</td>\n",
       "      <td>4</td>\n",
       "      <td>92.198</td>\n",
       "      <td>b'Casual'</td>\n",
       "      <td>b\"I Didn't Mean To\"</td>\n",
       "    </tr>\n",
       "    <tr>\n",
       "      <th>1</th>\n",
       "      <td>1969</td>\n",
       "      <td>6</td>\n",
       "      <td>148.03546</td>\n",
       "      <td>0.148</td>\n",
       "      <td>137.915</td>\n",
       "      <td>-9.843</td>\n",
       "      <td>0</td>\n",
       "      <td>b'Dimensions'</td>\n",
       "      <td>0.417500</td>\n",
       "      <td>4</td>\n",
       "      <td>121.274</td>\n",
       "      <td>b'The Box Tops'</td>\n",
       "      <td>b'Soul Deep'</td>\n",
       "    </tr>\n",
       "    <tr>\n",
       "      <th>2</th>\n",
       "      <td>0</td>\n",
       "      <td>8</td>\n",
       "      <td>177.47546</td>\n",
       "      <td>0.282</td>\n",
       "      <td>172.304</td>\n",
       "      <td>-9.689</td>\n",
       "      <td>1</td>\n",
       "      <td>b'Las Numero 1 De La Sonora Santanera'</td>\n",
       "      <td>0.343428</td>\n",
       "      <td>1</td>\n",
       "      <td>100.070</td>\n",
       "      <td>b'Sonora Santanera'</td>\n",
       "      <td>b'Amor De Cabaret'</td>\n",
       "    </tr>\n",
       "    <tr>\n",
       "      <th>3</th>\n",
       "      <td>1982</td>\n",
       "      <td>0</td>\n",
       "      <td>233.40363</td>\n",
       "      <td>0.000</td>\n",
       "      <td>217.124</td>\n",
       "      <td>-9.013</td>\n",
       "      <td>1</td>\n",
       "      <td>b'Friend Or Foe'</td>\n",
       "      <td>0.454231</td>\n",
       "      <td>4</td>\n",
       "      <td>119.293</td>\n",
       "      <td>b'Adam Ant'</td>\n",
       "      <td>b'Something Girls'</td>\n",
       "    </tr>\n",
       "    <tr>\n",
       "      <th>4</th>\n",
       "      <td>2007</td>\n",
       "      <td>2</td>\n",
       "      <td>209.60608</td>\n",
       "      <td>0.066</td>\n",
       "      <td>198.699</td>\n",
       "      <td>-4.501</td>\n",
       "      <td>1</td>\n",
       "      <td>b'Muertos Vivos'</td>\n",
       "      <td>0.401724</td>\n",
       "      <td>4</td>\n",
       "      <td>129.738</td>\n",
       "      <td>b'Gob'</td>\n",
       "      <td>b'Face the Ashes'</td>\n",
       "    </tr>\n",
       "  </tbody>\n",
       "</table>\n",
       "</div>"
      ],
      "text/plain": [
       "   Année  Clé      Durée  Fin du fondu  Fondu de fin  Intensité  Mode  \\\n",
       "0      0    1  218.93179         0.247       218.932    -11.197     0   \n",
       "1   1969    6  148.03546         0.148       137.915     -9.843     0   \n",
       "2      0    8  177.47546         0.282       172.304     -9.689     1   \n",
       "3   1982    0  233.40363         0.000       217.124     -9.013     1   \n",
       "4   2007    2  209.60608         0.066       198.699     -4.501     1   \n",
       "\n",
       "                                Nom Album  Popularité  Signature Temporelle  \\\n",
       "0                          b'Fear Itself'    0.401998                     4   \n",
       "1                           b'Dimensions'    0.417500                     4   \n",
       "2  b'Las Numero 1 De La Sonora Santanera'    0.343428                     1   \n",
       "3                        b'Friend Or Foe'    0.454231                     4   \n",
       "4                        b'Muertos Vivos'    0.401724                     4   \n",
       "\n",
       "     Tempo          nom artiste          nom chanson  \n",
       "0   92.198            b'Casual'  b\"I Didn't Mean To\"  \n",
       "1  121.274      b'The Box Tops'         b'Soul Deep'  \n",
       "2  100.070  b'Sonora Santanera'   b'Amor De Cabaret'  \n",
       "3  119.293          b'Adam Ant'   b'Something Girls'  \n",
       "4  129.738               b'Gob'    b'Face the Ashes'  "
      ]
     },
     "execution_count": 88,
     "metadata": {},
     "output_type": "execute_result"
    }
   ],
   "source": [
    "df.head()"
   ]
  },
  {
   "cell_type": "code",
   "execution_count": null,
   "metadata": {
    "collapsed": true
   },
   "outputs": [],
   "source": []
  }
 ],
 "metadata": {
  "kernelspec": {
   "display_name": "Python 3",
   "language": "python",
   "name": "python3"
  },
  "language_info": {
   "codemirror_mode": {
    "name": "ipython",
    "version": 3
   },
   "file_extension": ".py",
   "mimetype": "text/x-python",
   "name": "python",
   "nbconvert_exporter": "python",
   "pygments_lexer": "ipython3",
   "version": "3.5.0"
  }
 },
 "nbformat": 4,
 "nbformat_minor": 0
}
