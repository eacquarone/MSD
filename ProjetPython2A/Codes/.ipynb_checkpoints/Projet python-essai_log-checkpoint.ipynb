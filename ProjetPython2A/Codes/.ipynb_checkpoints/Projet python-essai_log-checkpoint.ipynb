{
 "cells": [
  {
   "cell_type": "markdown",
   "metadata": {},
   "source": [
    "\n",
    "# <div style=\"text-align: center;\" markdown=\"1\">Projet Python Semestre 1</div>\n",
    "***\n",
    "\n",
    "## <div style=\"text-align: center;\" markdown=\"1\">Prédiction sur la popularité d'un artiste en utilisant la MSD</div>\n",
    "\n",
    "***\n"
   ]
  },
  {
   "cell_type": "markdown",
   "metadata": {},
   "source": [
    "![alt text](http://labrosa.ee.columbia.edu/millionsong/sites/default/files/millionsong2-128.jpg \"Logo Title Text 1\")"
   ]
  },
  {
   "cell_type": "markdown",
   "metadata": {},
   "source": [
    "### Plan"
   ]
  },
  {
   "cell_type": "markdown",
   "metadata": {},
   "source": [
    ">## I. Traitement de la base de données \n",
    "\n",
    ">## II. Régression Linéaire en utilisant le GradientBoostingRegressor\n",
    "\n",
    ">## III. Classification et étude de performances\n",
    "\n",
    ">## IV. Modification des hyperparamètres"
   ]
  },
  {
   "cell_type": "markdown",
   "metadata": {},
   "source": [
    "## I.  Traitement de la base de données\n",
    "\n"
   ]
  },
  {
   "cell_type": "code",
   "execution_count": 5,
   "metadata": {
    "collapsed": false
   },
   "outputs": [
    {
     "name": "stdout",
     "output_type": "stream",
     "text": [
      "Populating the interactive namespace from numpy and matplotlib\n"
     ]
    }
   ],
   "source": [
    "%pylab inline"
   ]
  },
  {
   "cell_type": "markdown",
   "metadata": {},
   "source": [
    " "
   ]
  },
  {
   "cell_type": "markdown",
   "metadata": {},
   "source": [
    "On commence par importer notre base de donnée on utilise la fonction __get_all_infos__ pour récupérer récursivement tous les fichiers et les données pour chacune des chansons :"
   ]
  },
  {
   "cell_type": "markdown",
   "metadata": {},
   "source": [
    " "
   ]
  },
  {
   "cell_type": "code",
   "execution_count": 3,
   "metadata": {
    "collapsed": false
   },
   "outputs": [],
   "source": [
    "import os\n",
    "import glob\n",
    "import hdf5_getters as hd\n",
    "import pandas as pd\n",
    "\n",
    "def get_infos(basedir,ext='.h5'):\n",
    "    df = []\n",
    "    i = 0\n",
    "    for root, dirs, files in os.walk(basedir):\n",
    "        if i %20 == 0:\n",
    "            print(i)\n",
    "        files = glob.glob(os.path.join(root,'*'+ext))\n",
    "        for f in files:\n",
    "            d = {}\n",
    "            h5 = hd.open_h5_file_read(f)\n",
    "            d[\"nom chanson\"] = (hd.get_title(h5))\n",
    "            d[\"nom artiste\"] = (hd.get_artist_name(h5))\n",
    "            d[\"Danceabilité\"] = (hd.get_danceability(h5))\n",
    "            d[\"Popularité\"] = (hd.get_artist_hotttnesss(h5))\n",
    "            d[\"Clé\"] = (hd.get_key(h5))\n",
    "            d[\"Durée\"] = (hd.get_duration(h5))\n",
    "            d[\"Fin du fondu\"] = (hd.get_end_of_fade_in(h5))\n",
    "            d[\"Energie\"] = (hd.get_energy(h5))\n",
    "            d[\"Intensité\"] = (hd.get_loudness(h5))\n",
    "            d[\"Mode\"] = (hd.get_mode(h5))\n",
    "            d[\"Nom Album\"] = (hd.get_release(h5))\n",
    "            d[\"Fondu de fin\"] = (hd.get_start_of_fade_out(h5))\n",
    "            d[\"Tempo\"] = (hd.get_tempo(h5))\n",
    "            d[\"Signature Temporelle\"] = (hd.get_time_signature(h5))\n",
    "            d[\"Année\"] = (hd.get_year(h5))\n",
    "            df.append(d)\n",
    "            h5.close()\n",
    "        i+=1\n",
    "    return pd.DataFrame(df)"
   ]
  },
  {
   "cell_type": "code",
   "execution_count": 34,
   "metadata": {
    "collapsed": false
   },
   "outputs": [],
   "source": [
    "import sys\n"
   ]
  },
  {
   "cell_type": "code",
   "execution_count": null,
   "metadata": {
    "collapsed": false
   },
   "outputs": [],
   "source": [
    "df = get_infos(\"C:\\\\Users\\Enguérand\\Documents\\ProjetPython2A\\dataset\\millionsongsubset_full\\MillionSongSubset\\data\")"
   ]
  },
  {
   "cell_type": "markdown",
   "metadata": {},
   "source": [
    "On enregistre la base dans un csv, cela nous fera gagner du temps aux prochains lancements."
   ]
  },
  {
   "cell_type": "code",
   "execution_count": 5,
   "metadata": {
    "collapsed": false,
    "scrolled": true
   },
   "outputs": [],
   "source": [
    "\n",
    "df.to_csv(\"base_de_depart.csv\",encoding = 'utf-8')"
   ]
  },
  {
   "cell_type": "markdown",
   "metadata": {},
   "source": [
    "A partir de maintenant nous pourrons utiliser la base sans faire ce traitement fastidieux :"
   ]
  },
  {
   "cell_type": "code",
   "execution_count": 1,
   "metadata": {
    "collapsed": true
   },
   "outputs": [],
   "source": [
    "import pandas as pd\n",
    "df = pd.read_csv(\"base_de_depart.csv\")"
   ]
  },
  {
   "cell_type": "markdown",
   "metadata": {},
   "source": [
    "On regarde ce que l'on peut trouver dans la base :"
   ]
  },
  {
   "cell_type": "code",
   "execution_count": 2,
   "metadata": {
    "collapsed": false
   },
   "outputs": [
    {
     "data": {
      "text/html": [
       "<div>\n",
       "<table border=\"1\" class=\"dataframe\">\n",
       "  <thead>\n",
       "    <tr style=\"text-align: right;\">\n",
       "      <th></th>\n",
       "      <th>Unnamed: 0</th>\n",
       "      <th>Année</th>\n",
       "      <th>Clé</th>\n",
       "      <th>Danceabilité</th>\n",
       "      <th>Durée</th>\n",
       "      <th>Energie</th>\n",
       "      <th>Fin du fondu</th>\n",
       "      <th>Fondu de fin</th>\n",
       "      <th>Intensité</th>\n",
       "      <th>Mode</th>\n",
       "      <th>Popularité</th>\n",
       "      <th>Signature Temporelle</th>\n",
       "      <th>Tempo</th>\n",
       "    </tr>\n",
       "  </thead>\n",
       "  <tbody>\n",
       "    <tr>\n",
       "      <th>count</th>\n",
       "      <td>10000.00000</td>\n",
       "      <td>10000.000000</td>\n",
       "      <td>10000.000000</td>\n",
       "      <td>10000</td>\n",
       "      <td>10000.000000</td>\n",
       "      <td>10000</td>\n",
       "      <td>10000.000000</td>\n",
       "      <td>10000.000000</td>\n",
       "      <td>10000.000000</td>\n",
       "      <td>10000.000000</td>\n",
       "      <td>10000.000000</td>\n",
       "      <td>10000.000000</td>\n",
       "      <td>10000.000000</td>\n",
       "    </tr>\n",
       "    <tr>\n",
       "      <th>mean</th>\n",
       "      <td>4999.50000</td>\n",
       "      <td>934.704600</td>\n",
       "      <td>5.276100</td>\n",
       "      <td>0</td>\n",
       "      <td>238.507518</td>\n",
       "      <td>0</td>\n",
       "      <td>0.758616</td>\n",
       "      <td>229.975465</td>\n",
       "      <td>-10.485668</td>\n",
       "      <td>0.691100</td>\n",
       "      <td>0.385552</td>\n",
       "      <td>3.564800</td>\n",
       "      <td>122.915449</td>\n",
       "    </tr>\n",
       "    <tr>\n",
       "      <th>std</th>\n",
       "      <td>2886.89568</td>\n",
       "      <td>996.650657</td>\n",
       "      <td>3.554087</td>\n",
       "      <td>0</td>\n",
       "      <td>114.137514</td>\n",
       "      <td>0</td>\n",
       "      <td>1.867952</td>\n",
       "      <td>112.195735</td>\n",
       "      <td>5.399788</td>\n",
       "      <td>0.462063</td>\n",
       "      <td>0.143647</td>\n",
       "      <td>1.266239</td>\n",
       "      <td>35.184412</td>\n",
       "    </tr>\n",
       "    <tr>\n",
       "      <th>min</th>\n",
       "      <td>0.00000</td>\n",
       "      <td>0.000000</td>\n",
       "      <td>0.000000</td>\n",
       "      <td>0</td>\n",
       "      <td>1.044440</td>\n",
       "      <td>0</td>\n",
       "      <td>0.000000</td>\n",
       "      <td>1.044000</td>\n",
       "      <td>-51.643000</td>\n",
       "      <td>0.000000</td>\n",
       "      <td>0.000000</td>\n",
       "      <td>0.000000</td>\n",
       "      <td>0.000000</td>\n",
       "    </tr>\n",
       "    <tr>\n",
       "      <th>25%</th>\n",
       "      <td>2499.75000</td>\n",
       "      <td>0.000000</td>\n",
       "      <td>2.000000</td>\n",
       "      <td>0</td>\n",
       "      <td>176.032200</td>\n",
       "      <td>0</td>\n",
       "      <td>0.000000</td>\n",
       "      <td>168.856000</td>\n",
       "      <td>-13.163250</td>\n",
       "      <td>0.000000</td>\n",
       "      <td>0.325266</td>\n",
       "      <td>3.000000</td>\n",
       "      <td>96.965750</td>\n",
       "    </tr>\n",
       "    <tr>\n",
       "      <th>50%</th>\n",
       "      <td>4999.50000</td>\n",
       "      <td>0.000000</td>\n",
       "      <td>5.000000</td>\n",
       "      <td>0</td>\n",
       "      <td>223.059140</td>\n",
       "      <td>0</td>\n",
       "      <td>0.199000</td>\n",
       "      <td>213.879000</td>\n",
       "      <td>-9.380000</td>\n",
       "      <td>1.000000</td>\n",
       "      <td>0.380742</td>\n",
       "      <td>4.000000</td>\n",
       "      <td>120.161000</td>\n",
       "    </tr>\n",
       "    <tr>\n",
       "      <th>75%</th>\n",
       "      <td>7499.25000</td>\n",
       "      <td>2000.000000</td>\n",
       "      <td>8.000000</td>\n",
       "      <td>0</td>\n",
       "      <td>276.375060</td>\n",
       "      <td>0</td>\n",
       "      <td>0.421000</td>\n",
       "      <td>266.292000</td>\n",
       "      <td>-6.532500</td>\n",
       "      <td>1.000000</td>\n",
       "      <td>0.453858</td>\n",
       "      <td>4.000000</td>\n",
       "      <td>144.013250</td>\n",
       "    </tr>\n",
       "    <tr>\n",
       "      <th>max</th>\n",
       "      <td>9999.00000</td>\n",
       "      <td>2010.000000</td>\n",
       "      <td>11.000000</td>\n",
       "      <td>0</td>\n",
       "      <td>1819.767710</td>\n",
       "      <td>0</td>\n",
       "      <td>43.119000</td>\n",
       "      <td>1813.426000</td>\n",
       "      <td>0.566000</td>\n",
       "      <td>1.000000</td>\n",
       "      <td>1.082503</td>\n",
       "      <td>7.000000</td>\n",
       "      <td>262.828000</td>\n",
       "    </tr>\n",
       "  </tbody>\n",
       "</table>\n",
       "</div>"
      ],
      "text/plain": [
       "        Unnamed: 0         Année           Clé  Danceabilité         Durée  \\\n",
       "count  10000.00000  10000.000000  10000.000000         10000  10000.000000   \n",
       "mean    4999.50000    934.704600      5.276100             0    238.507518   \n",
       "std     2886.89568    996.650657      3.554087             0    114.137514   \n",
       "min        0.00000      0.000000      0.000000             0      1.044440   \n",
       "25%     2499.75000      0.000000      2.000000             0    176.032200   \n",
       "50%     4999.50000      0.000000      5.000000             0    223.059140   \n",
       "75%     7499.25000   2000.000000      8.000000             0    276.375060   \n",
       "max     9999.00000   2010.000000     11.000000             0   1819.767710   \n",
       "\n",
       "       Energie  Fin du fondu  Fondu de fin     Intensité          Mode  \\\n",
       "count    10000  10000.000000  10000.000000  10000.000000  10000.000000   \n",
       "mean         0      0.758616    229.975465    -10.485668      0.691100   \n",
       "std          0      1.867952    112.195735      5.399788      0.462063   \n",
       "min          0      0.000000      1.044000    -51.643000      0.000000   \n",
       "25%          0      0.000000    168.856000    -13.163250      0.000000   \n",
       "50%          0      0.199000    213.879000     -9.380000      1.000000   \n",
       "75%          0      0.421000    266.292000     -6.532500      1.000000   \n",
       "max          0     43.119000   1813.426000      0.566000      1.000000   \n",
       "\n",
       "         Popularité  Signature Temporelle         Tempo  \n",
       "count  10000.000000          10000.000000  10000.000000  \n",
       "mean       0.385552              3.564800    122.915449  \n",
       "std        0.143647              1.266239     35.184412  \n",
       "min        0.000000              0.000000      0.000000  \n",
       "25%        0.325266              3.000000     96.965750  \n",
       "50%        0.380742              4.000000    120.161000  \n",
       "75%        0.453858              4.000000    144.013250  \n",
       "max        1.082503              7.000000    262.828000  "
      ]
     },
     "execution_count": 2,
     "metadata": {},
     "output_type": "execute_result"
    }
   ],
   "source": [
    "df.describe()"
   ]
  },
  {
   "cell_type": "markdown",
   "metadata": {},
   "source": [
    "  "
   ]
  },
  {
   "cell_type": "markdown",
   "metadata": {},
   "source": [
    "## II. Régression Linéaire"
   ]
  },
  {
   "cell_type": "markdown",
   "metadata": {},
   "source": [
    " "
   ]
  },
  {
   "cell_type": "code",
   "execution_count": 13,
   "metadata": {
    "collapsed": false
   },
   "outputs": [
    {
     "name": "stdout",
     "output_type": "stream",
     "text": [
      "['Année', 'Clé', 'Danceabilité', 'Durée', 'Energie', 'Fin du fondu', 'Fondu de fin', 'Intensité', 'Mode', 'Signature Temporelle']\n",
      "['Nom Album', 'nom artiste', 'nom chanson']\n",
      "Popularité\n"
     ]
    },
    {
     "data": {
      "text/plain": [
       "0    0.337898\n",
       "1    0.348895\n",
       "2    0.295225\n",
       "3    0.374477\n",
       "4    0.337703\n",
       "Name: Popularité, dtype: float64"
      ]
     },
     "execution_count": 13,
     "metadata": {},
     "output_type": "execute_result"
    }
   ],
   "source": [
    "import numpy\n",
    "import numpy as np\n",
    "numerique = [ c for c,d in zip(df.columns,df.dtypes) if (d == numpy.int64) or (d == numpy.float64) and (c not in [\"Popularité\"]) and (c not in ['Unnamed: 0']) ]\n",
    "categories = [ c for c in df.columns if c not in numerique and c not in [\"Popularité\"] ]\n",
    "target = \"Popularité\"\n",
    "print(numerique[1:11])\n",
    "print(categories)\n",
    "print(target)\n",
    "X = df[ numerique[1:11] ]\n",
    "cat = df[ categories ]\n",
    "Yr = df[ target ]\n",
    "Yl = Yr.apply(lambda r : log(1+r))\n",
    "Yl.head()"
   ]
  },
  {
   "cell_type": "markdown",
   "metadata": {},
   "source": [
    " Premier essai : on va essayer une __régression linéaire__ entre les paramètres et le fait ou non d'avoir du succès"
   ]
  },
  {
   "cell_type": "code",
   "execution_count": 19,
   "metadata": {
    "collapsed": false
   },
   "outputs": [
    {
     "data": {
      "text/plain": [
       "<matplotlib.axes._subplots.AxesSubplot at 0x2757d4632e8>"
      ]
     },
     "execution_count": 19,
     "metadata": {},
     "output_type": "execute_result"
    },
    {
     "data": {
      "image/png": "[encoded data removed]",
      "text/plain": [
       "<matplotlib.figure.Figure at 0x2757ce707f0>"
      ]
     },
     "metadata": {},
     "output_type": "display_data"
    }
   ],
   "source": [
    "Yl.hist(figsize=(16,6), bins=100)"
   ]
  },
  {
   "cell_type": "code",
   "execution_count": 20,
   "metadata": {
    "collapsed": false
   },
   "outputs": [
    {
     "data": {
      "text/plain": [
       "count    10000.000000\n",
       "mean         0.385552\n",
       "std          0.143647\n",
       "min          0.000000\n",
       "25%          0.325266\n",
       "50%          0.380742\n",
       "75%          0.453858\n",
       "max          1.082503\n",
       "Name: Popularité, dtype: float64"
      ]
     },
     "execution_count": 20,
     "metadata": {},
     "output_type": "execute_result"
    }
   ],
   "source": [
    "Yr.describe()"
   ]
  },
  {
   "cell_type": "code",
   "execution_count": null,
   "metadata": {
    "collapsed": false
   },
   "outputs": [],
   "source": [
    "from sklearn.cross_validation import train_test_split\n",
    "X_train, X_test, Y_train, Y_test = train_test_split(X, Yl, test_size=0.33)"
   ]
  },
  {
   "cell_type": "code",
   "execution_count": 17,
   "metadata": {
    "collapsed": true
   },
   "outputs": [],
   "source": [
    "from sklearn.pipeline import Pipeline\n",
    "from sklearn.preprocessing import Normalizer\n",
    "from sklearn.ensemble import GradientBoostingRegressor\n",
    "clfr = Pipeline([\n",
    "      ('normalize', Normalizer()),\n",
    "      ('regression', GradientBoostingRegressor())\n",
    "    ])\n",
    "clfr = clfr.fit(X_train, Y_train.ravel())"
   ]
  },
  {
   "cell_type": "code",
   "execution_count": 18,
   "metadata": {
    "collapsed": false
   },
   "outputs": [],
   "source": [
    "from sklearn.ensemble import GradientBoostingRegressor\n",
    "from sklearn.linear_model import LinearRegression\n",
    "type_regressor = GradientBoostingRegressor\n",
    "clf = type_regressor()\n",
    "clf = clf.fit(X_train, Y_train.ravel())"
   ]
  },
  {
   "cell_type": "code",
   "execution_count": 20,
   "metadata": {
    "collapsed": false
   },
   "outputs": [],
   "source": [
    "predicted = clfr.predict(X_test)\n",
    "expected = Y_test"
   ]
  },
  {
   "cell_type": "code",
   "execution_count": 21,
   "metadata": {
    "collapsed": true
   },
   "outputs": [],
   "source": [
    "%matplotlib inline\n",
    "import matplotlib.pyplot as plt\n",
    "import numpy as np"
   ]
  },
  {
   "cell_type": "code",
   "execution_count": 22,
   "metadata": {
    "collapsed": false
   },
   "outputs": [
    {
     "name": "stdout",
     "output_type": "stream",
     "text": [
      "RMS: 0.134284382693\n"
     ]
    },
    {
     "name": "stderr",
     "output_type": "stream",
     "text": [
      "C:\\Users\\Enguérand\\AppData\\Local\\Continuum\\Anaconda3\\lib\\site-packages\\matplotlib\\collections.py:590: FutureWarning: elementwise comparison failed; returning scalar instead, but in the future will perform elementwise comparison\n",
      "  if self._edgecolors == str('face'):\n"
     ]
    },
    {
     "data": {
      "image/png": "[encoded data removed]",
      "text/plain": [
       "<matplotlib.figure.Figure at 0x8e5cff7048>"
      ]
     },
     "metadata": {},
     "output_type": "display_data"
    }
   ],
   "source": [
    "plt.scatter(expected, predicted)\n",
    "plt.plot([0, 1.2], [0, 1.2], '--k')\n",
    "plt.axis('tight')\n",
    "plt.xlabel('Vrai popularité')\n",
    "plt.ylabel('Popularité prédite')\n",
    "print(\"RMS:\", np.sqrt(np.mean((predicted - expected) ** 2)))"
   ]
  },
  {
   "cell_type": "code",
   "execution_count": 25,
   "metadata": {
    "collapsed": false
   },
   "outputs": [
    {
     "data": {
      "text/plain": [
       "<matplotlib.text.Text at 0x8e5da32978>"
      ]
     },
     "execution_count": 25,
     "metadata": {},
     "output_type": "execute_result"
    },
    {
     "data": {
      "image/png": "[encoded data removed]",
      "text/plain": [
       "<matplotlib.figure.Figure at 0x8e5d9d4fd0>"
      ]
     },
     "metadata": {},
     "output_type": "display_data"
    }
   ],
   "source": [
    "feature_name = X.columns\n",
    "limit = 20\n",
    "feature_importance = clfr.named_steps['regression'].feature_importances_[:20]\n",
    "feature_importance = 100.0 * (feature_importance / feature_importance.max())\n",
    "sorted_idx = np.argsort(feature_importance)\n",
    "pos = np.arange(sorted_idx.shape[0]) + .5\n",
    "plt.subplot(1, 2, 2)\n",
    "plt.barh(pos, feature_importance[sorted_idx], align='center')\n",
    "plt.yticks(pos, feature_name[sorted_idx])\n",
    "plt.xlabel('Relative Importance')\n",
    "plt.title('Variable Importance')"
   ]
  },
  {
   "cell_type": "markdown",
   "metadata": {},
   "source": [
    "Le résultat que l'on obtient n'est pas franchement convaincant... Essayons de faire une __classification__. Si une chanson a un score de \"hotttnesss\" supérieur à 0.5 on dit qu'elle est \"Populaire\" sinon elle ne l'est pas."
   ]
  },
  {
   "cell_type": "markdown",
   "metadata": {},
   "source": [
    " "
   ]
  },
  {
   "cell_type": "markdown",
   "metadata": {},
   "source": [
    "## III. Classification et mesure des performances"
   ]
  },
  {
   "cell_type": "markdown",
   "metadata": {},
   "source": [
    " "
   ]
  },
  {
   "cell_type": "markdown",
   "metadata": {},
   "source": [
    "On commence par séparer Y en deux, si on a une popularité supérieure à 1/2 on est populaire, sinon on ne l'est pas."
   ]
  },
  {
   "cell_type": "code",
   "execution_count": 27,
   "metadata": {
    "collapsed": false
   },
   "outputs": [],
   "source": [
    "Y = Yr.apply(lambda r : 1.0 if r >= 0.385552 else 0.0)"
   ]
  },
  {
   "cell_type": "markdown",
   "metadata": {},
   "source": [
    "Place à la partie classification supervisée :"
   ]
  },
  {
   "cell_type": "code",
   "execution_count": 28,
   "metadata": {
    "collapsed": false
   },
   "outputs": [],
   "source": [
    "from sklearn.cross_validation import train_test_split, cross_val_score\n",
    "X_train, X_test, Y_train, Y_test = train_test_split(X, Y, test_size=0.33, random_state = 1)"
   ]
  },
  {
   "cell_type": "code",
   "execution_count": 29,
   "metadata": {
    "collapsed": true
   },
   "outputs": [],
   "source": [
    "from sklearn.ensemble import GradientBoostingClassifier, RandomForestClassifier\n",
    "type_classifier = GradientBoostingClassifier\n",
    "clf = type_classifier()\n",
    "clf = clf.fit(X_train, Y_train.ravel())"
   ]
  },
  {
   "cell_type": "code",
   "execution_count": 30,
   "metadata": {
    "collapsed": true
   },
   "outputs": [],
   "source": [
    "from sklearn.pipeline import Pipeline\n",
    "from sklearn.preprocessing import Normalizer\n",
    "from sklearn.ensemble import GradientBoostingClassifier\n",
    "clf = Pipeline([\n",
    "      ('normalize', Normalizer()),\n",
    "      ('classification', GradientBoostingClassifier())\n",
    "    ])\n",
    "clf = clf.fit(X_train, Y_train.ravel())"
   ]
  },
  {
   "cell_type": "markdown",
   "metadata": {},
   "source": [
    "On va implémenter la matrice de confusion : "
   ]
  },
  {
   "cell_type": "code",
   "execution_count": 31,
   "metadata": {
    "collapsed": false
   },
   "outputs": [
    {
     "name": "stdout",
     "output_type": "stream",
     "text": [
      "[[2457 1031]\n",
      " [1064 2148]]\n",
      "[[1218  519]\n",
      " [ 580  983]]\n"
     ]
    },
    {
     "data": {
      "text/plain": [
       "<matplotlib.text.Text at 0x8e5da9fcc0>"
      ]
     },
     "execution_count": 31,
     "metadata": {},
     "output_type": "execute_result"
    },
    {
     "name": "stderr",
     "output_type": "stream",
     "text": [
      "C:\\Users\\Enguérand\\AppData\\Local\\Continuum\\Anaconda3\\lib\\site-packages\\matplotlib\\collections.py:590: FutureWarning: elementwise comparison failed; returning scalar instead, but in the future will perform elementwise comparison\n",
      "  if self._edgecolors == str('face'):\n"
     ]
    },
    {
     "data": {
      "image/png": "[encoded data removed]",
      "text/plain": [
       "<matplotlib.figure.Figure at 0x8e5da324e0>"
      ]
     },
     "metadata": {},
     "output_type": "display_data"
    }
   ],
   "source": [
    "from sklearn.metrics import confusion_matrix\n",
    "for x,y in [ (X_train, Y_train), (X_test, Y_test) ]:\n",
    "    yp  = clf.predict(x)\n",
    "    cm = confusion_matrix(y.ravel(), yp.ravel())\n",
    "    print(cm)\n",
    "import matplotlib.pyplot as plt\n",
    "plt.matshow(cm)\n",
    "plt.title('Confusion matrix')\n",
    "plt.colorbar()\n",
    "plt.ylabel('True label')\n",
    "plt.xlabel('Predicted label')"
   ]
  },
  {
   "cell_type": "code",
   "execution_count": 32,
   "metadata": {
    "collapsed": false
   },
   "outputs": [
    {
     "data": {
      "text/plain": [
       "0.66696969696969699"
      ]
     },
     "execution_count": 32,
     "metadata": {},
     "output_type": "execute_result"
    }
   ],
   "source": [
    "clf.score(X_test,Y_test)"
   ]
  },
  {
   "cell_type": "code",
   "execution_count": 33,
   "metadata": {
    "collapsed": false
   },
   "outputs": [
    {
     "data": {
      "text/plain": [
       "array([[ 0.68663605,  0.31336395],\n",
       "       [ 0.79476976,  0.20523024],\n",
       "       [ 0.33332755,  0.66667245],\n",
       "       [ 0.19423584,  0.80576416],\n",
       "       [ 0.21852781,  0.78147219]])"
      ]
     },
     "execution_count": 33,
     "metadata": {},
     "output_type": "execute_result"
    }
   ],
   "source": [
    "from sklearn.metrics import roc_curve, auc\n",
    "probas = clf.predict_proba(X_test)\n",
    "probas[:5]"
   ]
  },
  {
   "cell_type": "code",
   "execution_count": 34,
   "metadata": {
    "collapsed": false
   },
   "outputs": [
    {
     "data": {
      "text/plain": [
       "array([[ 1.        ,  0.68663605],\n",
       "       [ 1.        ,  0.79476976],\n",
       "       [ 1.        ,  0.66667245],\n",
       "       [ 1.        ,  0.80576416],\n",
       "       [ 1.        ,  0.78147219]])"
      ]
     },
     "execution_count": 34,
     "metadata": {},
     "output_type": "execute_result"
    }
   ],
   "source": [
    "rep = [ ]\n",
    "yt = Y_test.ravel()\n",
    "for i in range(probas.shape[0]):\n",
    "    p0,p1 = probas[i,:]\n",
    "    exp = yt[i]\n",
    "    if p0 > p1 :\n",
    "        if exp == 0 :\n",
    "            # bonne réponse\n",
    "            rep.append ( (1, p0) )\n",
    "        else :\n",
    "            # mauvaise réponse\n",
    "            rep.append( (0,p0) )\n",
    "    else :\n",
    "        if exp == 0 :\n",
    "            # mauvaise réponse\n",
    "            rep.append ( (0, p1) )\n",
    "        else :\n",
    "            # bonne réponse\n",
    "            rep.append( (1,p1) )\n",
    "mat_rep = numpy.array(rep)\n",
    "mat_rep[:5]"
   ]
  },
  {
   "cell_type": "code",
   "execution_count": 35,
   "metadata": {
    "collapsed": false
   },
   "outputs": [
    {
     "data": {
      "text/plain": [
       "('taux de bonne réponse', 0.66696969696967034)"
      ]
     },
     "execution_count": 35,
     "metadata": {},
     "output_type": "execute_result"
    }
   ],
   "source": [
    "\"taux de bonne réponse\",sum(mat_rep[:,0]/len(mat_rep)) # voir matrice de confusion"
   ]
  },
  {
   "cell_type": "code",
   "execution_count": 36,
   "metadata": {
    "collapsed": false
   },
   "outputs": [
    {
     "data": {
      "text/plain": [
       "<matplotlib.legend.Legend at 0x8e5b03a5f8>"
      ]
     },
     "execution_count": 36,
     "metadata": {},
     "output_type": "execute_result"
    },
    {
     "data": {
      "image/png": "[encoded data removed]",
      "text/plain": [
       "<matplotlib.figure.Figure at 0x8e5af9fcf8>"
      ]
     },
     "metadata": {},
     "output_type": "display_data"
    }
   ],
   "source": [
    "fpr, tpr, thresholds = roc_curve(mat_rep[:,0], mat_rep[:, 1])\n",
    "roc_auc = auc(fpr, tpr)\n",
    "plt.plot(fpr, tpr, label='ROC curve (area = %0.2f)' % roc_auc)\n",
    "plt.plot([0, 1], [0, 1], 'k--')\n",
    "plt.xlim([0.0, 1.0])\n",
    "plt.ylim([0.0, 1.0])\n",
    "plt.xlabel('False Positive Rate')\n",
    "plt.ylabel('True Positive Rate')\n",
    "plt.title('ROC')\n",
    "plt.legend(loc=\"lower right\")"
   ]
  },
  {
   "cell_type": "markdown",
   "metadata": {},
   "source": [
    "__Essayons maintenant d'améliorer les performances de notre modèle__"
   ]
  },
  {
   "cell_type": "markdown",
   "metadata": {},
   "source": [
    "## IV. Améliorer les performances"
   ]
  },
  {
   "cell_type": "markdown",
   "metadata": {},
   "source": [
    " "
   ]
  },
  {
   "cell_type": "code",
   "execution_count": 37,
   "metadata": {
    "collapsed": false
   },
   "outputs": [],
   "source": [
    "from sklearn.feature_selection import SelectKBest, f_classif\n",
    "from sklearn import cross_validation\n",
    "from sklearn.cross_validation import KFold"
   ]
  },
  {
   "cell_type": "code",
   "execution_count": 38,
   "metadata": {
    "collapsed": false
   },
   "outputs": [
    {
     "name": "stderr",
     "output_type": "stream",
     "text": [
      "C:\\Users\\Enguérand\\AppData\\Local\\Continuum\\Anaconda3\\lib\\site-packages\\sklearn\\feature_selection\\univariate_selection.py:111: UserWarning: Features [2 4] are constant.\n",
      "  UserWarning)\n"
     ]
    }
   ],
   "source": [
    "selector = SelectKBest(f_classif, k=5)\n",
    "selector = selector.fit(X, Y)"
   ]
  },
  {
   "cell_type": "code",
   "execution_count": 39,
   "metadata": {
    "collapsed": false
   },
   "outputs": [
    {
     "data": {
      "text/plain": [
       "Index(['Année', 'Clé', 'Danceabilité', 'Durée', 'Energie', 'Fin du fondu',\n",
       "       'Fondu de fin', 'Intensité', 'Mode', 'Signature Temporelle'],\n",
       "      dtype='object')"
      ]
     },
     "execution_count": 39,
     "metadata": {},
     "output_type": "execute_result"
    }
   ],
   "source": [
    "X.columns"
   ]
  },
  {
   "cell_type": "code",
   "execution_count": 40,
   "metadata": {
    "collapsed": false
   },
   "outputs": [
    {
     "data": {
      "image/png": "[encoded data removed]",
      "text/plain": [
       "<matplotlib.figure.Figure at 0x8e5d9e4048>"
      ]
     },
     "metadata": {},
     "output_type": "display_data"
    }
   ],
   "source": [
    "scores = -np.log10(selector.pvalues_)\n",
    "plt.bar(range(len(X.columns)), scores)\n",
    "plt.xticks(range(len(X.columns)), X.columns, rotation='vertical')\n",
    "plt.show()"
   ]
  },
  {
   "cell_type": "code",
   "execution_count": 42,
   "metadata": {
    "collapsed": false
   },
   "outputs": [],
   "source": [
    "X2 = X[[\"Année\",\"Clé\",\"Intensité\",\"Signature Temporelle\",\"Mode\",\"Durée\"]]\n"
   ]
  },
  {
   "cell_type": "code",
   "execution_count": 248,
   "metadata": {
    "collapsed": false
   },
   "outputs": [
    {
     "data": {
      "text/plain": [
       "10000"
      ]
     },
     "execution_count": 248,
     "metadata": {},
     "output_type": "execute_result"
    }
   ],
   "source": []
  },
  {
   "cell_type": "code",
   "execution_count": 43,
   "metadata": {
    "collapsed": false
   },
   "outputs": [],
   "source": [
    "clf2 = Pipeline([\n",
    "      ('normalize', Normalizer()),\n",
    "      ('classification', GradientBoostingClassifier())\n",
    "    ])\n",
    "kf = KFold(10000, n_folds=4, random_state=1)\n",
    "for train, test in kf:\n",
    "    train_predictors = (X.iloc[train,:])\n",
    "    train_target = Y.iloc[train]\n",
    "    # Training the algorithm using the predictors and target.\n",
    "    clf2.fit(train_predictors, train_target)"
   ]
  },
  {
   "cell_type": "code",
   "execution_count": 44,
   "metadata": {
    "collapsed": false
   },
   "outputs": [
    {
     "name": "stderr",
     "output_type": "stream",
     "text": [
      "C:\\Users\\Enguérand\\AppData\\Local\\Continuum\\Anaconda3\\lib\\site-packages\\sklearn\\base.py:175: DeprecationWarning: inspect.getargspec() is deprecated, use inspect.signature() instead\n",
      "  args, varargs, kw, default = inspect.getargspec(init)\n",
      "C:\\Users\\Enguérand\\AppData\\Local\\Continuum\\Anaconda3\\lib\\site-packages\\sklearn\\base.py:175: DeprecationWarning: inspect.getargspec() is deprecated, use inspect.signature() instead\n",
      "  args, varargs, kw, default = inspect.getargspec(init)\n",
      "C:\\Users\\Enguérand\\AppData\\Local\\Continuum\\Anaconda3\\lib\\site-packages\\sklearn\\base.py:175: DeprecationWarning: inspect.getargspec() is deprecated, use inspect.signature() instead\n",
      "  args, varargs, kw, default = inspect.getargspec(init)\n",
      "C:\\Users\\Enguérand\\AppData\\Local\\Continuum\\Anaconda3\\lib\\site-packages\\sklearn\\base.py:175: DeprecationWarning: inspect.getargspec() is deprecated, use inspect.signature() instead\n",
      "  args, varargs, kw, default = inspect.getargspec(init)\n",
      "C:\\Users\\Enguérand\\AppData\\Local\\Continuum\\Anaconda3\\lib\\site-packages\\sklearn\\base.py:175: DeprecationWarning: inspect.getargspec() is deprecated, use inspect.signature() instead\n",
      "  args, varargs, kw, default = inspect.getargspec(init)\n",
      "C:\\Users\\Enguérand\\AppData\\Local\\Continuum\\Anaconda3\\lib\\site-packages\\sklearn\\base.py:175: DeprecationWarning: inspect.getargspec() is deprecated, use inspect.signature() instead\n",
      "  args, varargs, kw, default = inspect.getargspec(init)\n",
      "C:\\Users\\Enguérand\\AppData\\Local\\Continuum\\Anaconda3\\lib\\site-packages\\sklearn\\base.py:175: DeprecationWarning: inspect.getargspec() is deprecated, use inspect.signature() instead\n",
      "  args, varargs, kw, default = inspect.getargspec(init)\n",
      "C:\\Users\\Enguérand\\AppData\\Local\\Continuum\\Anaconda3\\lib\\site-packages\\sklearn\\base.py:175: DeprecationWarning: inspect.getargspec() is deprecated, use inspect.signature() instead\n",
      "  args, varargs, kw, default = inspect.getargspec(init)\n",
      "C:\\Users\\Enguérand\\AppData\\Local\\Continuum\\Anaconda3\\lib\\site-packages\\sklearn\\base.py:175: DeprecationWarning: inspect.getargspec() is deprecated, use inspect.signature() instead\n",
      "  args, varargs, kw, default = inspect.getargspec(init)\n",
      "C:\\Users\\Enguérand\\AppData\\Local\\Continuum\\Anaconda3\\lib\\site-packages\\sklearn\\base.py:175: DeprecationWarning: inspect.getargspec() is deprecated, use inspect.signature() instead\n",
      "  args, varargs, kw, default = inspect.getargspec(init)\n",
      "C:\\Users\\Enguérand\\AppData\\Local\\Continuum\\Anaconda3\\lib\\site-packages\\sklearn\\base.py:175: DeprecationWarning: inspect.getargspec() is deprecated, use inspect.signature() instead\n",
      "  args, varargs, kw, default = inspect.getargspec(init)\n",
      "C:\\Users\\Enguérand\\AppData\\Local\\Continuum\\Anaconda3\\lib\\site-packages\\sklearn\\base.py:175: DeprecationWarning: inspect.getargspec() is deprecated, use inspect.signature() instead\n",
      "  args, varargs, kw, default = inspect.getargspec(init)\n",
      "C:\\Users\\Enguérand\\AppData\\Local\\Continuum\\Anaconda3\\lib\\site-packages\\sklearn\\base.py:175: DeprecationWarning: inspect.getargspec() is deprecated, use inspect.signature() instead\n",
      "  args, varargs, kw, default = inspect.getargspec(init)\n",
      "C:\\Users\\Enguérand\\AppData\\Local\\Continuum\\Anaconda3\\lib\\site-packages\\sklearn\\base.py:175: DeprecationWarning: inspect.getargspec() is deprecated, use inspect.signature() instead\n",
      "  args, varargs, kw, default = inspect.getargspec(init)\n",
      "C:\\Users\\Enguérand\\AppData\\Local\\Continuum\\Anaconda3\\lib\\site-packages\\sklearn\\base.py:175: DeprecationWarning: inspect.getargspec() is deprecated, use inspect.signature() instead\n",
      "  args, varargs, kw, default = inspect.getargspec(init)\n",
      "C:\\Users\\Enguérand\\AppData\\Local\\Continuum\\Anaconda3\\lib\\site-packages\\sklearn\\base.py:175: DeprecationWarning: inspect.getargspec() is deprecated, use inspect.signature() instead\n",
      "  args, varargs, kw, default = inspect.getargspec(init)\n",
      "C:\\Users\\Enguérand\\AppData\\Local\\Continuum\\Anaconda3\\lib\\site-packages\\sklearn\\base.py:175: DeprecationWarning: inspect.getargspec() is deprecated, use inspect.signature() instead\n",
      "  args, varargs, kw, default = inspect.getargspec(init)\n",
      "C:\\Users\\Enguérand\\AppData\\Local\\Continuum\\Anaconda3\\lib\\site-packages\\sklearn\\base.py:175: DeprecationWarning: inspect.getargspec() is deprecated, use inspect.signature() instead\n",
      "  args, varargs, kw, default = inspect.getargspec(init)\n",
      "C:\\Users\\Enguérand\\AppData\\Local\\Continuum\\Anaconda3\\lib\\site-packages\\sklearn\\base.py:175: DeprecationWarning: inspect.getargspec() is deprecated, use inspect.signature() instead\n",
      "  args, varargs, kw, default = inspect.getargspec(init)\n",
      "C:\\Users\\Enguérand\\AppData\\Local\\Continuum\\Anaconda3\\lib\\site-packages\\sklearn\\base.py:175: DeprecationWarning: inspect.getargspec() is deprecated, use inspect.signature() instead\n",
      "  args, varargs, kw, default = inspect.getargspec(init)\n",
      "C:\\Users\\Enguérand\\AppData\\Local\\Continuum\\Anaconda3\\lib\\site-packages\\sklearn\\base.py:175: DeprecationWarning: inspect.getargspec() is deprecated, use inspect.signature() instead\n",
      "  args, varargs, kw, default = inspect.getargspec(init)\n",
      "C:\\Users\\Enguérand\\AppData\\Local\\Continuum\\Anaconda3\\lib\\site-packages\\sklearn\\base.py:175: DeprecationWarning: inspect.getargspec() is deprecated, use inspect.signature() instead\n",
      "  args, varargs, kw, default = inspect.getargspec(init)\n",
      "C:\\Users\\Enguérand\\AppData\\Local\\Continuum\\Anaconda3\\lib\\site-packages\\sklearn\\base.py:175: DeprecationWarning: inspect.getargspec() is deprecated, use inspect.signature() instead\n",
      "  args, varargs, kw, default = inspect.getargspec(init)\n",
      "C:\\Users\\Enguérand\\AppData\\Local\\Continuum\\Anaconda3\\lib\\site-packages\\sklearn\\base.py:175: DeprecationWarning: inspect.getargspec() is deprecated, use inspect.signature() instead\n",
      "  args, varargs, kw, default = inspect.getargspec(init)\n"
     ]
    }
   ],
   "source": [
    "\n",
    "scores = cross_val_score(clf2, X, Y, cv=4)\n"
   ]
  },
  {
   "cell_type": "code",
   "execution_count": 45,
   "metadata": {
    "collapsed": false
   },
   "outputs": [
    {
     "name": "stdout",
     "output_type": "stream",
     "text": [
      "0.660300173296\n"
     ]
    }
   ],
   "source": [
    "print(scores.mean())"
   ]
  }
 ],
 "metadata": {
  "kernelspec": {
   "display_name": "Python 3",
   "language": "python",
   "name": "python3"
  },
  "language_info": {
   "codemirror_mode": {
    "name": "ipython",
    "version": 3
   },
   "file_extension": ".py",
   "mimetype": "text/x-python",
   "name": "python",
   "nbconvert_exporter": "python",
   "pygments_lexer": "ipython3",
   "version": "3.5.0"
  }
 },
 "nbformat": 4,
 "nbformat_minor": 0
}
