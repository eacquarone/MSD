{
 "cells": [
  {
   "cell_type": "markdown",
   "metadata": {},
   "source": [
    "\n",
    "# <div style=\"text-align: center;\" markdown=\"1\">Projet Python Semestre 1</div>\n",
    "***\n",
    "\n",
    "## <div style=\"text-align: center;\" markdown=\"1\">Prédiction sur la popularité d'un artiste en utilisant la MSD</div>\n",
    "\n",
    "***\n"
   ]
  },
  {
   "cell_type": "markdown",
   "metadata": {},
   "source": [
    "![alt text](http://labrosa.ee.columbia.edu/millionsong/sites/default/files/millionsong2-128.jpg \"Logo Title Text 1\")"
   ]
  },
  {
   "cell_type": "markdown",
   "metadata": {},
   "source": [
    "### Plan"
   ]
  },
  {
   "cell_type": "markdown",
   "metadata": {},
   "source": [
    ">## I. Traitement de la base de données \n",
    "\n",
    ">## II. Régression Linéaire en utilisant le GradientBoostingRegressor\n",
    "\n",
    ">## III. Classification et étude de performances\n",
    "\n",
    ">## IV. Modification des hyperparamètres"
   ]
  },
  {
   "cell_type": "markdown",
   "metadata": {},
   "source": [
    "## I.  Traitement de la base de données\n",
    "\n"
   ]
  },
  {
   "cell_type": "markdown",
   "metadata": {},
   "source": [
    " "
   ]
  },
  {
   "cell_type": "markdown",
   "metadata": {},
   "source": [
    "On commence par importer notre base de donnée on utilise la fonction __get_all_infos__ pour récupérer récursivement tous les fichiers et les données pour chacune des chansons :"
   ]
  },
  {
   "cell_type": "markdown",
   "metadata": {},
   "source": [
    " "
   ]
  },
  {
   "cell_type": "markdown",
   "metadata": {
    "collapsed": false
   },
   "source": [
    "%cd C:\\Users\\Enguérand\\Documents\\ProjetPython2A\\Codes\n",
    "\n",
    "import os\n",
    "import glob\n",
    "import hdf5_getters as hd\n",
    "import pandas as pd\n",
    "\n",
    "def get_infos(basedir,ext='.h5'):\n",
    "    df = []\n",
    "    i = 0\n",
    "    for root, dirs, files in os.walk(basedir):\n",
    "        if i %20 == 0:\n",
    "            print(i)\n",
    "        files = glob.glob(os.path.join(root,'*'+ext))\n",
    "        for f in files:\n",
    "            d = {}\n",
    "            h5 = hdf5_getters.open_h5_file_read(f)\n",
    "            d[\"nom chanson\"] = (hd.get_title(h5))\n",
    "            d[\"nom artiste\"] = (hd.get_artist_name(h5))\n",
    "            d[\"Danceabilité\"] = (hd.get_danceability(h5))\n",
    "            d[\"Popularité\"] = (hd.get_artist_hotttnesss(h5))\n",
    "            d[\"Clé\"] = (hd.get_key(h5))\n",
    "            d[\"Durée\"] = (hd.get_duration(h5))\n",
    "            d[\"Fin du fondu\"] = (hd.get_end_of_fade_in(h5))\n",
    "            d[\"Energie\"] = (hd.get_energy(h5))\n",
    "            d[\"Intensité\"] = (hd.get_loudness(h5))\n",
    "            d[\"Mode\"] = (hd.get_mode(h5))\n",
    "            d[\"Nom Album\"] = (hd.get_release(h5))\n",
    "            d[\"Fondu de fin\"] = (hd.get_start_of_fade_out(h5))\n",
    "            d[\"Tempo\"] = (hd.get_tempo(h5))\n",
    "            d[\"Signature Temporelle\"] = (hd.get_time_signature(h5))\n",
    "            d[\"Année\"] = (hd.get_year(h5))\n",
    "            d[\"Tons par Segment\"] = hd.get_segments_pitches(h5)\n",
    "            d[\"Battements\"] = hd.get_beats_start(h5)\n",
    "            d[\"Début Sections\"] = hd.get_sections_start(h5)\n",
    "            d[\"Timbre Segments\"] = hd.get_segments_timbre(h5)\n",
    "            d[\"Intensité max Segments\"] = hd.get_segments_loudness_max(h5)\n",
    "            d[\"Temps Intensité Max\"] = hd.get_segments_loudness_max_time(h5)\n",
    "            d[\"Début Tatum\"] = hd.get_tatums_start(h5)\n",
    "            df.append(d)\n",
    "            h5.close()\n",
    "        i+=1\n",
    "    return pd.DataFrame(df)"
   ]
  },
  {
   "cell_type": "code",
   "execution_count": 1,
   "metadata": {
    "collapsed": true
   },
   "outputs": [],
   "source": [
    "import os\n",
    "import glob\n",
    "import hdf5_getters as hd\n",
    "import pandas as pd\n",
    "\n",
    "def get_infos(basedir,ext='.h5'):\n",
    "    df = []\n",
    "    i = 0\n",
    "    for root, dirs, files in os.walk(basedir):\n",
    "        if i %20 == 0:\n",
    "            print(i)\n",
    "        files = glob.glob(os.path.join(root,'*'+ext))\n",
    "        for f in files:\n",
    "            d = {}\n",
    "            h5 = hd.open_h5_file_read(f)\n",
    "            d[\"nom chanson\"] = (hd.get_title(h5))\n",
    "            d[\"nom artiste\"] = (hd.get_artist_name(h5))\n",
    "            d[\"Danceabilité\"] = (hd.get_danceability(h5))\n",
    "            d[\"Popularité\"] = (hd.get_artist_hotttnesss(h5))\n",
    "            d[\"Clé\"] = (hd.get_key(h5))\n",
    "            d[\"Durée\"] = (hd.get_duration(h5))\n",
    "            d[\"Fin du fondu\"] = (hd.get_end_of_fade_in(h5))\n",
    "            d[\"Energie\"] = (hd.get_energy(h5))\n",
    "            d[\"Intensité\"] = (hd.get_loudness(h5))\n",
    "            d[\"Mode\"] = (hd.get_mode(h5))\n",
    "            d[\"Nom Album\"] = (hd.get_release(h5))\n",
    "            d[\"Fondu de fin\"] = (hd.get_start_of_fade_out(h5))\n",
    "            d[\"Tempo\"] = (hd.get_tempo(h5))\n",
    "            d[\"Signature Temporelle\"] = (hd.get_time_signature(h5))\n",
    "            d[\"Année\"] = (hd.get_year(h5))\n",
    "            d[\"Tons par Segment\"] = hd.get_segments_pitches(h5)\n",
    "            df.append(d)\n",
    "            h5.close()\n",
    "        i+=1\n",
    "    return pd.DataFrame(df)"
   ]
  },
  {
   "cell_type": "code",
   "execution_count": 2,
   "metadata": {
    "collapsed": false,
    "scrolled": true
   },
   "outputs": [
    {
     "name": "stdout",
     "output_type": "stream",
     "text": [
      "0\n",
      "20\n",
      "40\n",
      "60\n",
      "80\n",
      "100\n",
      "120\n",
      "140\n",
      "160\n",
      "180\n",
      "200\n",
      "220\n",
      "240\n",
      "260\n",
      "280\n",
      "300\n",
      "320\n",
      "340\n",
      "360\n",
      "380\n",
      "400\n",
      "420\n",
      "440\n",
      "460\n",
      "480\n",
      "500\n",
      "520\n",
      "540\n",
      "560\n",
      "580\n",
      "600\n",
      "620\n",
      "640\n",
      "660\n",
      "680\n",
      "700\n",
      "720\n",
      "740\n",
      "760\n",
      "780\n",
      "800\n",
      "820\n",
      "840\n",
      "860\n",
      "880\n",
      "900\n",
      "920\n"
     ]
    }
   ],
   "source": [
    "df = get_infos(\"C:\\\\Users\\Enguérand\\Documents\\ProjetPython2A\\dataset\\millionsongsubset_full\\MillionSongSubset\\data\")"
   ]
  },
  {
   "cell_type": "markdown",
   "metadata": {},
   "source": [
    "On enregistre la base dans un csv, cela nous fera gagner du temps aux prochains lancements."
   ]
  },
  {
   "cell_type": "code",
   "execution_count": 51,
   "metadata": {
    "collapsed": false,
    "scrolled": true
   },
   "outputs": [],
   "source": [
    "df.to_csv(\"base_de_depart_2.csv\")"
   ]
  },
  {
   "cell_type": "code",
   "execution_count": 3,
   "metadata": {
    "collapsed": false
   },
   "outputs": [],
   "source": [
    "import numpy as np\n",
    "df[\"Chromaticité moyenne par Segment\"] = df[\"Tons par Segment\"].apply(lambda r : r.mean(axis = 0))\n",
    "D = np.matrix([r.tolist() for r in df[\"Chromaticité moyenne par Segment\"]])\n"
   ]
  },
  {
   "cell_type": "markdown",
   "metadata": {},
   "source": [
    "On regarde ce que l'on peut trouver dans la base :"
   ]
  },
  {
   "cell_type": "code",
   "execution_count": 6,
   "metadata": {
    "collapsed": false
   },
   "outputs": [
    {
     "name": "stdout",
     "output_type": "stream",
     "text": [
      "Preprocessing the data using PCA...\n",
      "Computing pairwise distances...\n",
      "Computing P-values for point  0  of  10000 ...\n",
      "Computing P-values for point  500  of  10000 ...\n",
      "Computing P-values for point  1000  of  10000 ...\n",
      "Computing P-values for point  1500  of  10000 ...\n",
      "Computing P-values for point  2000  of  10000 ...\n",
      "Computing P-values for point  2500  of  10000 ...\n",
      "Computing P-values for point  3000  of  10000 ...\n",
      "Computing P-values for point  3500  of  10000 ...\n",
      "Computing P-values for point  4000  of  10000 ...\n",
      "Computing P-values for point  4500  of  10000 ...\n",
      "Computing P-values for point  5000  of  10000 ...\n",
      "Computing P-values for point  5500  of  10000 ...\n",
      "Computing P-values for point  6000  of  10000 ...\n",
      "Computing P-values for point  6500  of  10000 ...\n",
      "Computing P-values for point  7000  of  10000 ...\n",
      "Computing P-values for point  7500  of  10000 ...\n",
      "Computing P-values for point  8000  of  10000 ...\n",
      "Computing P-values for point  8500  of  10000 ...\n",
      "Computing P-values for point  9000  of  10000 ...\n",
      "Computing P-values for point  9500  of  10000 ...\n",
      "Mean value of sigma: \n"
     ]
    }
   ],
   "source": [
    "import tsne\n",
    "a = tsne.tsne(l2,no_dims=2,initial_dims = 12)"
   ]
  },
  {
   "cell_type": "code",
   "execution_count": 18,
   "metadata": {
    "collapsed": false
   },
   "outputs": [],
   "source": [
    "a1 = [t for t in a[:,0]]\n",
    "a2 = [t for t in a[:,1]]"
   ]
  },
  {
   "cell_type": "code",
   "execution_count": null,
   "metadata": {
    "collapsed": false
   },
   "outputs": [],
   "source": [
    "df[\"VP1\"] = a1\n",
    "df[\"VP2\"] = a2\n",
    "df.to_csv(\"base_de_depart_2.csv\")"
   ]
  },
  {
   "cell_type": "code",
   "execution_count": 1,
   "metadata": {
    "collapsed": false
   },
   "outputs": [
    {
     "data": {
      "text/html": [
       "<div>\n",
       "<table border=\"1\" class=\"dataframe\">\n",
       "  <thead>\n",
       "    <tr style=\"text-align: right;\">\n",
       "      <th></th>\n",
       "      <th>Unnamed: 0</th>\n",
       "      <th>Année</th>\n",
       "      <th>Clé</th>\n",
       "      <th>Danceabilité</th>\n",
       "      <th>Durée</th>\n",
       "      <th>Energie</th>\n",
       "      <th>Fin du fondu</th>\n",
       "      <th>Fondu de fin</th>\n",
       "      <th>Intensité</th>\n",
       "      <th>Mode</th>\n",
       "      <th>Nom Album</th>\n",
       "      <th>Popularité</th>\n",
       "      <th>Signature Temporelle</th>\n",
       "      <th>Tempo</th>\n",
       "      <th>Tons par Segment</th>\n",
       "      <th>nom artiste</th>\n",
       "      <th>nom chanson</th>\n",
       "      <th>Chromaticité moyenne par Segment</th>\n",
       "      <th>VP1</th>\n",
       "      <th>VP2</th>\n",
       "    </tr>\n",
       "  </thead>\n",
       "  <tbody>\n",
       "    <tr>\n",
       "      <th>0</th>\n",
       "      <td>0</td>\n",
       "      <td>0</td>\n",
       "      <td>1</td>\n",
       "      <td>0</td>\n",
       "      <td>218.93179</td>\n",
       "      <td>0</td>\n",
       "      <td>0.247</td>\n",
       "      <td>218.932</td>\n",
       "      <td>-11.197</td>\n",
       "      <td>0</td>\n",
       "      <td>b'Fear Itself'</td>\n",
       "      <td>0.401998</td>\n",
       "      <td>4</td>\n",
       "      <td>92.198</td>\n",
       "      <td>[[ 0.946  0.684  0.679 ...,  0.732  1.     0.7...</td>\n",
       "      <td>b'Casual'</td>\n",
       "      <td>b\"I Didn't Mean To\"</td>\n",
       "      <td>[ 0.47118126  0.62591349  0.35794542  0.284739...</td>\n",
       "      <td>-49.488214</td>\n",
       "      <td>10.179136</td>\n",
       "    </tr>\n",
       "    <tr>\n",
       "      <th>1</th>\n",
       "      <td>1</td>\n",
       "      <td>1969</td>\n",
       "      <td>6</td>\n",
       "      <td>0</td>\n",
       "      <td>148.03546</td>\n",
       "      <td>0</td>\n",
       "      <td>0.148</td>\n",
       "      <td>137.915</td>\n",
       "      <td>-9.843</td>\n",
       "      <td>0</td>\n",
       "      <td>b'Dimensions'</td>\n",
       "      <td>0.417500</td>\n",
       "      <td>4</td>\n",
       "      <td>121.274</td>\n",
       "      <td>[[ 1.     1.     1.    ...,  1.     1.     1. ...</td>\n",
       "      <td>b'The Box Tops'</td>\n",
       "      <td>b'Soul Deep'</td>\n",
       "      <td>[ 0.20774727  0.40840909  0.30999636  0.173218...</td>\n",
       "      <td>77.308286</td>\n",
       "      <td>-0.489877</td>\n",
       "    </tr>\n",
       "    <tr>\n",
       "      <th>2</th>\n",
       "      <td>2</td>\n",
       "      <td>0</td>\n",
       "      <td>8</td>\n",
       "      <td>0</td>\n",
       "      <td>177.47546</td>\n",
       "      <td>0</td>\n",
       "      <td>0.282</td>\n",
       "      <td>172.304</td>\n",
       "      <td>-9.689</td>\n",
       "      <td>1</td>\n",
       "      <td>b'Las Numero 1 De La Sonora Santanera'</td>\n",
       "      <td>0.343428</td>\n",
       "      <td>1</td>\n",
       "      <td>100.070</td>\n",
       "      <td>[[ 1.     0.911  0.18  ...,  0.094  0.096  0.1...</td>\n",
       "      <td>b'Sonora Santanera'</td>\n",
       "      <td>b'Amor De Cabaret'</td>\n",
       "      <td>[ 0.40731317  0.29959431  0.25642883  0.427211...</td>\n",
       "      <td>-32.462717</td>\n",
       "      <td>-65.452733</td>\n",
       "    </tr>\n",
       "    <tr>\n",
       "      <th>3</th>\n",
       "      <td>3</td>\n",
       "      <td>1982</td>\n",
       "      <td>0</td>\n",
       "      <td>0</td>\n",
       "      <td>233.40363</td>\n",
       "      <td>0</td>\n",
       "      <td>0.000</td>\n",
       "      <td>217.124</td>\n",
       "      <td>-9.013</td>\n",
       "      <td>1</td>\n",
       "      <td>b'Friend Or Foe'</td>\n",
       "      <td>0.454231</td>\n",
       "      <td>4</td>\n",
       "      <td>119.293</td>\n",
       "      <td>[[ 0.651  0.592  0.647 ...,  0.715  0.693  0.6...</td>\n",
       "      <td>b'Adam Ant'</td>\n",
       "      <td>b'Something Girls'</td>\n",
       "      <td>[ 0.49709257  0.31559927  0.39612424  0.292460...</td>\n",
       "      <td>7.110773</td>\n",
       "      <td>-19.945345</td>\n",
       "    </tr>\n",
       "    <tr>\n",
       "      <th>4</th>\n",
       "      <td>4</td>\n",
       "      <td>2007</td>\n",
       "      <td>2</td>\n",
       "      <td>0</td>\n",
       "      <td>209.60608</td>\n",
       "      <td>0</td>\n",
       "      <td>0.066</td>\n",
       "      <td>198.699</td>\n",
       "      <td>-4.501</td>\n",
       "      <td>1</td>\n",
       "      <td>b'Muertos Vivos'</td>\n",
       "      <td>0.401724</td>\n",
       "      <td>4</td>\n",
       "      <td>129.738</td>\n",
       "      <td>[[ 1.     0.529  0.407 ...,  0.53   0.318  0.3...</td>\n",
       "      <td>b'Gob'</td>\n",
       "      <td>b'Face the Ashes'</td>\n",
       "      <td>[ 0.40917385  0.39386924  0.36854383  0.260059...</td>\n",
       "      <td>6.359070</td>\n",
       "      <td>55.899583</td>\n",
       "    </tr>\n",
       "  </tbody>\n",
       "</table>\n",
       "</div>"
      ],
      "text/plain": [
       "   Unnamed: 0  Année  Clé  Danceabilité      Durée  Energie  Fin du fondu  \\\n",
       "0           0      0    1             0  218.93179        0         0.247   \n",
       "1           1   1969    6             0  148.03546        0         0.148   \n",
       "2           2      0    8             0  177.47546        0         0.282   \n",
       "3           3   1982    0             0  233.40363        0         0.000   \n",
       "4           4   2007    2             0  209.60608        0         0.066   \n",
       "\n",
       "   Fondu de fin  Intensité  Mode                               Nom Album  \\\n",
       "0       218.932    -11.197     0                          b'Fear Itself'   \n",
       "1       137.915     -9.843     0                           b'Dimensions'   \n",
       "2       172.304     -9.689     1  b'Las Numero 1 De La Sonora Santanera'   \n",
       "3       217.124     -9.013     1                        b'Friend Or Foe'   \n",
       "4       198.699     -4.501     1                        b'Muertos Vivos'   \n",
       "\n",
       "   Popularité  Signature Temporelle    Tempo  \\\n",
       "0    0.401998                     4   92.198   \n",
       "1    0.417500                     4  121.274   \n",
       "2    0.343428                     1  100.070   \n",
       "3    0.454231                     4  119.293   \n",
       "4    0.401724                     4  129.738   \n",
       "\n",
       "                                    Tons par Segment          nom artiste  \\\n",
       "0  [[ 0.946  0.684  0.679 ...,  0.732  1.     0.7...            b'Casual'   \n",
       "1  [[ 1.     1.     1.    ...,  1.     1.     1. ...      b'The Box Tops'   \n",
       "2  [[ 1.     0.911  0.18  ...,  0.094  0.096  0.1...  b'Sonora Santanera'   \n",
       "3  [[ 0.651  0.592  0.647 ...,  0.715  0.693  0.6...          b'Adam Ant'   \n",
       "4  [[ 1.     0.529  0.407 ...,  0.53   0.318  0.3...               b'Gob'   \n",
       "\n",
       "           nom chanson                   Chromaticité moyenne par Segment  \\\n",
       "0  b\"I Didn't Mean To\"  [ 0.47118126  0.62591349  0.35794542  0.284739...   \n",
       "1         b'Soul Deep'  [ 0.20774727  0.40840909  0.30999636  0.173218...   \n",
       "2   b'Amor De Cabaret'  [ 0.40731317  0.29959431  0.25642883  0.427211...   \n",
       "3   b'Something Girls'  [ 0.49709257  0.31559927  0.39612424  0.292460...   \n",
       "4    b'Face the Ashes'  [ 0.40917385  0.39386924  0.36854383  0.260059...   \n",
       "\n",
       "         VP1        VP2  \n",
       "0 -49.488214  10.179136  \n",
       "1  77.308286  -0.489877  \n",
       "2 -32.462717 -65.452733  \n",
       "3   7.110773 -19.945345  \n",
       "4   6.359070  55.899583  "
      ]
     },
     "execution_count": 1,
     "metadata": {},
     "output_type": "execute_result"
    }
   ],
   "source": [
    "import pandas as pd\n",
    "import numpy as np\n",
    "df = pd.read_csv(\"base_de_depart_2.csv\",encoding =\"latin-1\")\n",
    "df.head()"
   ]
  },
  {
   "cell_type": "code",
   "execution_count": 2,
   "metadata": {
    "collapsed": false
   },
   "outputs": [
    {
     "data": {
      "text/html": [
       "<div>\n",
       "<table border=\"1\" class=\"dataframe\">\n",
       "  <thead>\n",
       "    <tr style=\"text-align: right;\">\n",
       "      <th></th>\n",
       "      <th>Unnamed: 0</th>\n",
       "      <th>Année</th>\n",
       "      <th>Clé</th>\n",
       "      <th>Danceabilité</th>\n",
       "      <th>Durée</th>\n",
       "      <th>Energie</th>\n",
       "      <th>Fin du fondu</th>\n",
       "      <th>Fondu de fin</th>\n",
       "      <th>Intensité</th>\n",
       "      <th>Mode</th>\n",
       "      <th>Popularité</th>\n",
       "      <th>Signature Temporelle</th>\n",
       "      <th>Tempo</th>\n",
       "      <th>VP1</th>\n",
       "      <th>VP2</th>\n",
       "    </tr>\n",
       "  </thead>\n",
       "  <tbody>\n",
       "    <tr>\n",
       "      <th>count</th>\n",
       "      <td>9504.000000</td>\n",
       "      <td>9504.000000</td>\n",
       "      <td>9504.000000</td>\n",
       "      <td>9504</td>\n",
       "      <td>9504.000000</td>\n",
       "      <td>9504</td>\n",
       "      <td>9504.000000</td>\n",
       "      <td>9504.000000</td>\n",
       "      <td>9504.000000</td>\n",
       "      <td>9504.000000</td>\n",
       "      <td>9504.000000</td>\n",
       "      <td>9504.000000</td>\n",
       "      <td>9504.000000</td>\n",
       "      <td>9504.000000</td>\n",
       "      <td>9504.000000</td>\n",
       "    </tr>\n",
       "    <tr>\n",
       "      <th>mean</th>\n",
       "      <td>4988.958544</td>\n",
       "      <td>971.283565</td>\n",
       "      <td>5.268729</td>\n",
       "      <td>0</td>\n",
       "      <td>238.382871</td>\n",
       "      <td>0</td>\n",
       "      <td>0.759532</td>\n",
       "      <td>229.821969</td>\n",
       "      <td>-10.432283</td>\n",
       "      <td>0.691709</td>\n",
       "      <td>0.405674</td>\n",
       "      <td>3.569234</td>\n",
       "      <td>123.057164</td>\n",
       "      <td>-0.147343</td>\n",
       "      <td>0.275938</td>\n",
       "    </tr>\n",
       "    <tr>\n",
       "      <th>std</th>\n",
       "      <td>2888.715886</td>\n",
       "      <td>998.314450</td>\n",
       "      <td>3.551691</td>\n",
       "      <td>0</td>\n",
       "      <td>112.617409</td>\n",
       "      <td>0</td>\n",
       "      <td>1.874935</td>\n",
       "      <td>110.684770</td>\n",
       "      <td>5.379958</td>\n",
       "      <td>0.461812</td>\n",
       "      <td>0.116396</td>\n",
       "      <td>1.266642</td>\n",
       "      <td>35.192876</td>\n",
       "      <td>39.141570</td>\n",
       "      <td>40.364296</td>\n",
       "    </tr>\n",
       "    <tr>\n",
       "      <th>min</th>\n",
       "      <td>0.000000</td>\n",
       "      <td>0.000000</td>\n",
       "      <td>0.000000</td>\n",
       "      <td>0</td>\n",
       "      <td>1.044440</td>\n",
       "      <td>0</td>\n",
       "      <td>0.000000</td>\n",
       "      <td>1.044000</td>\n",
       "      <td>-51.643000</td>\n",
       "      <td>0.000000</td>\n",
       "      <td>0.011562</td>\n",
       "      <td>0.000000</td>\n",
       "      <td>0.000000</td>\n",
       "      <td>-76.336422</td>\n",
       "      <td>-78.173154</td>\n",
       "    </tr>\n",
       "    <tr>\n",
       "      <th>25%</th>\n",
       "      <td>2493.750000</td>\n",
       "      <td>0.000000</td>\n",
       "      <td>2.000000</td>\n",
       "      <td>0</td>\n",
       "      <td>176.548117</td>\n",
       "      <td>0</td>\n",
       "      <td>0.000000</td>\n",
       "      <td>169.262000</td>\n",
       "      <td>-13.120000</td>\n",
       "      <td>0.000000</td>\n",
       "      <td>0.335678</td>\n",
       "      <td>3.000000</td>\n",
       "      <td>96.979750</td>\n",
       "      <td>-32.334295</td>\n",
       "      <td>-32.817504</td>\n",
       "    </tr>\n",
       "    <tr>\n",
       "      <th>50%</th>\n",
       "      <td>4980.500000</td>\n",
       "      <td>0.000000</td>\n",
       "      <td>5.000000</td>\n",
       "      <td>0</td>\n",
       "      <td>223.333425</td>\n",
       "      <td>0</td>\n",
       "      <td>0.197000</td>\n",
       "      <td>214.120000</td>\n",
       "      <td>-9.328500</td>\n",
       "      <td>1.000000</td>\n",
       "      <td>0.386152</td>\n",
       "      <td>4.000000</td>\n",
       "      <td>120.198000</td>\n",
       "      <td>-1.849785</td>\n",
       "      <td>0.903518</td>\n",
       "    </tr>\n",
       "    <tr>\n",
       "      <th>75%</th>\n",
       "      <td>7492.250000</td>\n",
       "      <td>2001.000000</td>\n",
       "      <td>8.000000</td>\n",
       "      <td>0</td>\n",
       "      <td>276.139950</td>\n",
       "      <td>0</td>\n",
       "      <td>0.420000</td>\n",
       "      <td>266.217000</td>\n",
       "      <td>-6.486750</td>\n",
       "      <td>1.000000</td>\n",
       "      <td>0.459038</td>\n",
       "      <td>4.000000</td>\n",
       "      <td>144.142500</td>\n",
       "      <td>30.711756</td>\n",
       "      <td>32.612989</td>\n",
       "    </tr>\n",
       "    <tr>\n",
       "      <th>max</th>\n",
       "      <td>9999.000000</td>\n",
       "      <td>2010.000000</td>\n",
       "      <td>11.000000</td>\n",
       "      <td>0</td>\n",
       "      <td>1819.767710</td>\n",
       "      <td>0</td>\n",
       "      <td>43.119000</td>\n",
       "      <td>1813.426000</td>\n",
       "      <td>0.566000</td>\n",
       "      <td>1.000000</td>\n",
       "      <td>1.082503</td>\n",
       "      <td>7.000000</td>\n",
       "      <td>262.828000</td>\n",
       "      <td>82.895378</td>\n",
       "      <td>83.093050</td>\n",
       "    </tr>\n",
       "  </tbody>\n",
       "</table>\n",
       "</div>"
      ],
      "text/plain": [
       "        Unnamed: 0        Année          Clé  Danceabilité        Durée  \\\n",
       "count  9504.000000  9504.000000  9504.000000          9504  9504.000000   \n",
       "mean   4988.958544   971.283565     5.268729             0   238.382871   \n",
       "std    2888.715886   998.314450     3.551691             0   112.617409   \n",
       "min       0.000000     0.000000     0.000000             0     1.044440   \n",
       "25%    2493.750000     0.000000     2.000000             0   176.548117   \n",
       "50%    4980.500000     0.000000     5.000000             0   223.333425   \n",
       "75%    7492.250000  2001.000000     8.000000             0   276.139950   \n",
       "max    9999.000000  2010.000000    11.000000             0  1819.767710   \n",
       "\n",
       "       Energie  Fin du fondu  Fondu de fin    Intensité         Mode  \\\n",
       "count     9504   9504.000000   9504.000000  9504.000000  9504.000000   \n",
       "mean         0      0.759532    229.821969   -10.432283     0.691709   \n",
       "std          0      1.874935    110.684770     5.379958     0.461812   \n",
       "min          0      0.000000      1.044000   -51.643000     0.000000   \n",
       "25%          0      0.000000    169.262000   -13.120000     0.000000   \n",
       "50%          0      0.197000    214.120000    -9.328500     1.000000   \n",
       "75%          0      0.420000    266.217000    -6.486750     1.000000   \n",
       "max          0     43.119000   1813.426000     0.566000     1.000000   \n",
       "\n",
       "        Popularité  Signature Temporelle        Tempo          VP1  \\\n",
       "count  9504.000000           9504.000000  9504.000000  9504.000000   \n",
       "mean      0.405674              3.569234   123.057164    -0.147343   \n",
       "std       0.116396              1.266642    35.192876    39.141570   \n",
       "min       0.011562              0.000000     0.000000   -76.336422   \n",
       "25%       0.335678              3.000000    96.979750   -32.334295   \n",
       "50%       0.386152              4.000000   120.198000    -1.849785   \n",
       "75%       0.459038              4.000000   144.142500    30.711756   \n",
       "max       1.082503              7.000000   262.828000    82.895378   \n",
       "\n",
       "               VP2  \n",
       "count  9504.000000  \n",
       "mean      0.275938  \n",
       "std      40.364296  \n",
       "min     -78.173154  \n",
       "25%     -32.817504  \n",
       "50%       0.903518  \n",
       "75%      32.612989  \n",
       "max      83.093050  "
      ]
     },
     "execution_count": 2,
     "metadata": {},
     "output_type": "execute_result"
    }
   ],
   "source": [
    "mask = ((df['Popularité'] == 0))\n",
    "mask2 = (df['Année'] == 0)\n",
    "df = df.loc[~mask]\n",
    "df.describe()"
   ]
  },
  {
   "cell_type": "markdown",
   "metadata": {},
   "source": [
    "Approche naïve : on intègre la variable en prenant sa moyenne"
   ]
  },
  {
   "cell_type": "code",
   "execution_count": null,
   "metadata": {
    "collapsed": false
   },
   "outputs": [],
   "source": [
    "df[\"Ton Moyen\"] = df[\"Tons par Segment\"].apply(lambda r: r[0].mean())\n",
    "#df[\"Battement Moyen\"] = df[\"Battements\"].apply(lambda r: r.mean())\n",
    "df[\"Début Section Moyen\"] = df[\"Début Sections\"].apply(lambda r: r.mean())\n",
    "#df[\"Timbre Moyen\"] = df[\"Timbre Segments\"].apply(lambda r: r.mean())\n",
    "#df[\"Intensité Max Moyenne\"] = df[\"Intensité max Segments\"].apply(lambda r: r.mean())\n",
    "#df[\"Temps Moyen Intensité Max \"] = df[\"Temps Intensité Max\"].apply(lambda r: r.mean())\n",
    "#df[\"Début Tatum Moyen\"] = df[\"Début Tatum\"].apply(lambda r: r.mean())\n",
    "df2 = df[[c for c in df.columns if c not in [\"Tons par Segment\",\"Battements\",\"Début Sections\",\"Timbre Segments\",\"Intensité max Segments\",\"Temps Intensité Max\",\"Début Tatum\"]]]\n",
    "df2.describe()"
   ]
  },
  {
   "cell_type": "markdown",
   "metadata": {},
   "source": [
    "  "
   ]
  },
  {
   "cell_type": "markdown",
   "metadata": {},
   "source": [
    "## II. Régression Linéaire"
   ]
  },
  {
   "cell_type": "markdown",
   "metadata": {},
   "source": [
    " "
   ]
  },
  {
   "cell_type": "code",
   "execution_count": 13,
   "metadata": {
    "collapsed": false
   },
   "outputs": [
    {
     "name": "stdout",
     "output_type": "stream",
     "text": [
      "['Année', 'Clé', 'Durée', 'Fin du fondu', 'Fondu de fin', 'Intensité', 'Mode', 'Signature Temporelle', 'Tempo', 'VP1', 'VP2']\n",
      "['Danceabilité', 'Energie', 'Nom Album', 'Tons par Segment', 'nom artiste', 'nom chanson', 'Chromaticité moyenne par Segment']\n",
      "Popularité\n"
     ]
    },
    {
     "data": {
      "text/html": [
       "<div>\n",
       "<table border=\"1\" class=\"dataframe\">\n",
       "  <thead>\n",
       "    <tr style=\"text-align: right;\">\n",
       "      <th></th>\n",
       "      <th>Clé</th>\n",
       "      <th>Intensité</th>\n",
       "      <th>Signature Temporelle</th>\n",
       "    </tr>\n",
       "  </thead>\n",
       "  <tbody>\n",
       "    <tr>\n",
       "      <th>count</th>\n",
       "      <td>9504.000000</td>\n",
       "      <td>9504.000000</td>\n",
       "      <td>9504.000000</td>\n",
       "    </tr>\n",
       "    <tr>\n",
       "      <th>mean</th>\n",
       "      <td>5.268729</td>\n",
       "      <td>-10.432283</td>\n",
       "      <td>3.569234</td>\n",
       "    </tr>\n",
       "    <tr>\n",
       "      <th>std</th>\n",
       "      <td>3.551691</td>\n",
       "      <td>5.379958</td>\n",
       "      <td>1.266642</td>\n",
       "    </tr>\n",
       "    <tr>\n",
       "      <th>min</th>\n",
       "      <td>0.000000</td>\n",
       "      <td>-51.643000</td>\n",
       "      <td>0.000000</td>\n",
       "    </tr>\n",
       "    <tr>\n",
       "      <th>25%</th>\n",
       "      <td>2.000000</td>\n",
       "      <td>-13.120000</td>\n",
       "      <td>3.000000</td>\n",
       "    </tr>\n",
       "    <tr>\n",
       "      <th>50%</th>\n",
       "      <td>5.000000</td>\n",
       "      <td>-9.328500</td>\n",
       "      <td>4.000000</td>\n",
       "    </tr>\n",
       "    <tr>\n",
       "      <th>75%</th>\n",
       "      <td>8.000000</td>\n",
       "      <td>-6.486750</td>\n",
       "      <td>4.000000</td>\n",
       "    </tr>\n",
       "    <tr>\n",
       "      <th>max</th>\n",
       "      <td>11.000000</td>\n",
       "      <td>0.566000</td>\n",
       "      <td>7.000000</td>\n",
       "    </tr>\n",
       "  </tbody>\n",
       "</table>\n",
       "</div>"
      ],
      "text/plain": [
       "               Clé    Intensité  Signature Temporelle\n",
       "count  9504.000000  9504.000000           9504.000000\n",
       "mean      5.268729   -10.432283              3.569234\n",
       "std       3.551691     5.379958              1.266642\n",
       "min       0.000000   -51.643000              0.000000\n",
       "25%       2.000000   -13.120000              3.000000\n",
       "50%       5.000000    -9.328500              4.000000\n",
       "75%       8.000000    -6.486750              4.000000\n",
       "max      11.000000     0.566000              7.000000"
      ]
     },
     "execution_count": 13,
     "metadata": {},
     "output_type": "execute_result"
    }
   ],
   "source": [
    "import numpy\n",
    "import numpy as np\n",
    "numerique = [ c for c,d in zip(df.columns,df.dtypes) if (d == numpy.int64) or (d == numpy.float64) and (c not in [\"Popularité\",\"Danceabilité\",\"Energie\"]) ]\n",
    "categories = [ c for c in df.columns if c not in numerique and c not in [\"Popularité\"] ]\n",
    "target = \"Popularité\"\n",
    "print(numerique[1:])\n",
    "print(categories)\n",
    "print(target)\n",
    "X = df[ numerique[1:] ]\n",
    "X2 = X[[\"Clé\",\"Intensité\",\"Signature Temporelle\"]]\n",
    "cat = df[ categories ]\n",
    "Yr = df[ target ]\n",
    "X2.describe()"
   ]
  },
  {
   "cell_type": "markdown",
   "metadata": {},
   "source": [
    " Premier essai : on va essayer une __régression linéaire__ entre les paramètres et le fait ou non d'avoir du succès"
   ]
  },
  {
   "cell_type": "code",
   "execution_count": 75,
   "metadata": {
    "collapsed": false
   },
   "outputs": [
    {
     "data": {
      "text/plain": [
       "0    0.401998\n",
       "1    0.417500\n",
       "2    0.343428\n",
       "3    0.454231\n",
       "4    0.401724\n",
       "Name: Popularité, dtype: float64"
      ]
     },
     "execution_count": 75,
     "metadata": {},
     "output_type": "execute_result"
    }
   ],
   "source": [
    "Yr.head()"
   ]
  },
  {
   "cell_type": "code",
   "execution_count": 14,
   "metadata": {
    "collapsed": false
   },
   "outputs": [],
   "source": [
    "from sklearn.cross_validation import train_test_split\n",
    "X_train, X_test, Y_train, Y_test = train_test_split(X, Yr, test_size=0.33)"
   ]
  },
  {
   "cell_type": "code",
   "execution_count": 26,
   "metadata": {
    "collapsed": false
   },
   "outputs": [],
   "source": [
    "from sklearn.pipeline import Pipeline\n",
    "from sklearn.preprocessing import Normalizer\n",
    "from sklearn.ensemble import GradientBoostingRegressor\n",
    "from sklearn.linear_model import LinearRegression\n",
    "from sklearn.kernel_approximation import RBFSampler\n",
    "from sklearn.svm import LinearSVR\n",
    "from sklearn import feature_selection\n",
    "clfr = Pipeline([\n",
    "      ('normalize', Normalizer()),\n",
    "      ('feature_selection', feature_selection.SelectFromModel(LinearSVR(),threshold = \"median\")),\n",
    "      ('regression', GradientBoostingRegressor())\n",
    "    ])\n",
    "clfr = clfr.fit(X_train, Y_train.ravel())"
   ]
  },
  {
   "cell_type": "code",
   "execution_count": 27,
   "metadata": {
    "collapsed": false
   },
   "outputs": [],
   "source": [
    "predicted = clfr.predict(X_test)\n",
    "expected = Y_test"
   ]
  },
  {
   "cell_type": "code",
   "execution_count": 28,
   "metadata": {
    "collapsed": true
   },
   "outputs": [],
   "source": [
    "%matplotlib inline\n",
    "import matplotlib.pyplot as plt\n",
    "import numpy as np"
   ]
  },
  {
   "cell_type": "code",
   "execution_count": 29,
   "metadata": {
    "collapsed": false
   },
   "outputs": [
    {
     "name": "stdout",
     "output_type": "stream",
     "text": [
      "RMS: 0.104949814339\n"
     ]
    },
    {
     "name": "stderr",
     "output_type": "stream",
     "text": [
      "C:\\Users\\Enguérand\\AppData\\Local\\Continuum\\Anaconda3\\lib\\site-packages\\matplotlib\\collections.py:590: FutureWarning: elementwise comparison failed; returning scalar instead, but in the future will perform elementwise comparison\n",
      "  if self._edgecolors == str('face'):\n"
     ]
    },
    {
     "data": {
      "image/png": "[encoded data removed]",
      "text/plain": [
       "<matplotlib.figure.Figure at 0x1e7951440f0>"
      ]
     },
     "metadata": {},
     "output_type": "display_data"
    }
   ],
   "source": [
    "plt.scatter(expected, predicted)\n",
    "plt.plot([0, 1.2], [0, 1.2], '--k')\n",
    "plt.axis('tight')\n",
    "plt.xlabel('Vrai popularité')\n",
    "plt.ylabel('Popularité prédite')\n",
    "print(\"RMS:\", np.sqrt(np.mean((predicted - expected) ** 2)))"
   ]
  },
  {
   "cell_type": "code",
   "execution_count": 32,
   "metadata": {
    "collapsed": false
   },
   "outputs": [
    {
     "data": {
      "text/plain": [
       "0.24444833308663083"
      ]
     },
     "execution_count": 32,
     "metadata": {},
     "output_type": "execute_result"
    }
   ],
   "source": [
    "from sklearn import metrics\n",
    "\n",
    "metrics.explained_variance_score(Y_train, clfr.predict(X_train))"
   ]
  },
  {
   "cell_type": "code",
   "execution_count": 33,
   "metadata": {
    "collapsed": false
   },
   "outputs": [
    {
     "data": {
      "text/plain": [
       "<matplotlib.text.Text at 0x1e795124390>"
      ]
     },
     "execution_count": 33,
     "metadata": {},
     "output_type": "execute_result"
    },
    {
     "data": {
      "image/png": "[encoded data removed]",
      "text/plain": [
       "<matplotlib.figure.Figure at 0x1e7946df8d0>"
      ]
     },
     "metadata": {},
     "output_type": "display_data"
    }
   ],
   "source": [
    "feature_name = X.columns\n",
    "limit = 20\n",
    "feature_importance = clfr.named_steps['regression'].feature_importances_[:20]\n",
    "feature_importance = 100.0 * (feature_importance / feature_importance.max())\n",
    "sorted_idx = np.argsort(feature_importance)\n",
    "pos = np.arange(sorted_idx.shape[0]) + .5\n",
    "plt.subplot(1, 2, 2)\n",
    "plt.barh(pos, feature_importance[sorted_idx], align='center')\n",
    "plt.yticks(pos, feature_name[sorted_idx])\n",
    "plt.xlabel('Relative Importance')\n",
    "plt.title('Variable Importance')"
   ]
  },
  {
   "cell_type": "markdown",
   "metadata": {},
   "source": [
    "Le résultat que l'on obtient n'est pas franchement convaincant... Essayons de faire une __classification__. Si une chanson a un score de \"hotttnesss\" supérieur à 0.5 on dit qu'elle est \"Populaire\" sinon elle ne l'est pas."
   ]
  },
  {
   "cell_type": "markdown",
   "metadata": {},
   "source": [
    " "
   ]
  },
  {
   "cell_type": "markdown",
   "metadata": {},
   "source": [
    "## III. Classification et mesure des performances"
   ]
  },
  {
   "cell_type": "markdown",
   "metadata": {},
   "source": [
    " "
   ]
  },
  {
   "cell_type": "markdown",
   "metadata": {},
   "source": [
    "On commence par séparer Y en deux, si on a une popularité supérieure à 1/2 on est populaire, sinon on ne l'est pas."
   ]
  },
  {
   "cell_type": "code",
   "execution_count": 81,
   "metadata": {
    "collapsed": false
   },
   "outputs": [],
   "source": [
    "Y = Yr.apply(lambda r : 1.0 if r >= 0.385552 else 0.0)"
   ]
  },
  {
   "cell_type": "markdown",
   "metadata": {},
   "source": [
    "Place à la partie classification supervisée :"
   ]
  },
  {
   "cell_type": "code",
   "execution_count": 82,
   "metadata": {
    "collapsed": false
   },
   "outputs": [],
   "source": [
    "from sklearn.cross_validation import train_test_split, cross_val_score\n",
    "X_train, X_test, Y_train, Y_test = train_test_split(X, Y, test_size=0.33, random_state = 1)"
   ]
  },
  {
   "cell_type": "code",
   "execution_count": 83,
   "metadata": {
    "collapsed": true
   },
   "outputs": [],
   "source": [
    "from sklearn.ensemble import GradientBoostingClassifier, RandomForestClassifier\n",
    "type_classifier = GradientBoostingClassifier\n",
    "clf = type_classifier()\n",
    "clf = clf.fit(X_train, Y_train.ravel())"
   ]
  },
  {
   "cell_type": "code",
   "execution_count": 84,
   "metadata": {
    "collapsed": true
   },
   "outputs": [],
   "source": [
    "from sklearn.pipeline import Pipeline\n",
    "from sklearn.preprocessing import Normalizer\n",
    "from sklearn.ensemble import GradientBoostingClassifier\n",
    "clf = Pipeline([\n",
    "      ('normalize', Normalizer()),\n",
    "      ('classification', GradientBoostingClassifier())\n",
    "    ])\n",
    "clf = clf.fit(X_train, Y_train.ravel())"
   ]
  },
  {
   "cell_type": "markdown",
   "metadata": {},
   "source": [
    "On va implémenter la matrice de confusion : "
   ]
  },
  {
   "cell_type": "code",
   "execution_count": 85,
   "metadata": {
    "collapsed": false
   },
   "outputs": [
    {
     "name": "stdout",
     "output_type": "stream",
     "text": [
      "[[ 315  735]\n",
      " [  44 2002]]\n",
      "[[ 51 468]\n",
      " [ 89 918]]\n"
     ]
    },
    {
     "data": {
      "text/plain": [
       "<matplotlib.text.Text at 0x249744417f0>"
      ]
     },
     "execution_count": 85,
     "metadata": {},
     "output_type": "execute_result"
    },
    {
     "name": "stderr",
     "output_type": "stream",
     "text": [
      "C:\\Users\\Enguérand\\AppData\\Local\\Continuum\\Anaconda3\\lib\\site-packages\\matplotlib\\collections.py:590: FutureWarning: elementwise comparison failed; returning scalar instead, but in the future will perform elementwise comparison\n",
      "  if self._edgecolors == str('face'):\n"
     ]
    },
    {
     "data": {
      "image/png": "[encoded data removed]",
      "text/plain": [
       "<matplotlib.figure.Figure at 0x24976703668>"
      ]
     },
     "metadata": {},
     "output_type": "display_data"
    }
   ],
   "source": [
    "from sklearn.metrics import confusion_matrix\n",
    "for x,y in [ (X_train, Y_train), (X_test, Y_test) ]:\n",
    "    yp  = clf.predict(x)\n",
    "    cm = confusion_matrix(y.ravel(), yp.ravel())\n",
    "    print(cm)\n",
    "import matplotlib.pyplot as plt\n",
    "plt.matshow(cm)\n",
    "plt.title('Confusion matrix')\n",
    "plt.colorbar()\n",
    "plt.ylabel('True label')\n",
    "plt.xlabel('Predicted label')"
   ]
  },
  {
   "cell_type": "code",
   "execution_count": 87,
   "metadata": {
    "collapsed": false
   },
   "outputs": [
    {
     "data": {
      "text/plain": [
       "0.74838501291989667"
      ]
     },
     "execution_count": 87,
     "metadata": {},
     "output_type": "execute_result"
    }
   ],
   "source": [
    "clf.score(X_train,Y_train)"
   ]
  },
  {
   "cell_type": "code",
   "execution_count": 88,
   "metadata": {
    "collapsed": false
   },
   "outputs": [
    {
     "data": {
      "text/plain": [
       "array([[ 0.34057284,  0.65942716],\n",
       "       [ 0.42632309,  0.57367691],\n",
       "       [ 0.15387459,  0.84612541],\n",
       "       [ 0.40701825,  0.59298175],\n",
       "       [ 0.25400812,  0.74599188]])"
      ]
     },
     "execution_count": 88,
     "metadata": {},
     "output_type": "execute_result"
    }
   ],
   "source": [
    "from sklearn.metrics import roc_curve, auc\n",
    "probas = clf.predict_proba(X_test)\n",
    "probas[:5]"
   ]
  },
  {
   "cell_type": "code",
   "execution_count": 89,
   "metadata": {
    "collapsed": false
   },
   "outputs": [
    {
     "data": {
      "text/plain": [
       "array([[ 1.        ,  0.65942716],\n",
       "       [ 1.        ,  0.57367691],\n",
       "       [ 0.        ,  0.84612541],\n",
       "       [ 0.        ,  0.59298175],\n",
       "       [ 0.        ,  0.74599188]])"
      ]
     },
     "execution_count": 89,
     "metadata": {},
     "output_type": "execute_result"
    }
   ],
   "source": [
    "rep = [ ]\n",
    "yt = Y_test.ravel()\n",
    "for i in range(probas.shape[0]):\n",
    "    p0,p1 = probas[i,:]\n",
    "    exp = yt[i]\n",
    "    if p0 > p1 :\n",
    "        if exp == 0 :\n",
    "            # bonne réponse\n",
    "            rep.append ( (1, p0) )\n",
    "        else :\n",
    "            # mauvaise réponse\n",
    "            rep.append( (0,p0) )\n",
    "    else :\n",
    "        if exp == 0 :\n",
    "            # mauvaise réponse\n",
    "            rep.append ( (0, p1) )\n",
    "        else :\n",
    "            # bonne réponse\n",
    "            rep.append( (1,p1) )\n",
    "mat_rep = numpy.array(rep)\n",
    "mat_rep[:5]"
   ]
  },
  {
   "cell_type": "code",
   "execution_count": 90,
   "metadata": {
    "collapsed": false
   },
   "outputs": [
    {
     "data": {
      "text/plain": [
       "('taux de bonne réponse', 0.63499344692006143)"
      ]
     },
     "execution_count": 90,
     "metadata": {},
     "output_type": "execute_result"
    }
   ],
   "source": [
    "\"taux de bonne réponse\",sum(mat_rep[:,0]/len(mat_rep)) # voir matrice de confusion"
   ]
  },
  {
   "cell_type": "code",
   "execution_count": 91,
   "metadata": {
    "collapsed": false
   },
   "outputs": [
    {
     "data": {
      "text/plain": [
       "<matplotlib.legend.Legend at 0x249767acf28>"
      ]
     },
     "execution_count": 91,
     "metadata": {},
     "output_type": "execute_result"
    },
    {
     "data": {
      "image/png": "[encoded data removed]",
      "text/plain": [
       "<matplotlib.figure.Figure at 0x249762fb400>"
      ]
     },
     "metadata": {},
     "output_type": "display_data"
    }
   ],
   "source": [
    "fpr, tpr, thresholds = roc_curve(mat_rep[:,0], mat_rep[:, 1])\n",
    "roc_auc = auc(fpr, tpr)\n",
    "plt.plot(fpr, tpr, label='ROC curve (area = %0.2f)' % roc_auc)\n",
    "plt.plot([0, 1], [0, 1], 'k--')\n",
    "plt.xlim([0.0, 1.0])\n",
    "plt.ylim([0.0, 1.0])\n",
    "plt.xlabel('False Positive Rate')\n",
    "plt.ylabel('True Positive Rate')\n",
    "plt.title('ROC')\n",
    "plt.legend(loc=\"lower right\")"
   ]
  },
  {
   "cell_type": "markdown",
   "metadata": {},
   "source": [
    "__Essayons maintenant d'améliorer les performances de notre modèle__"
   ]
  },
  {
   "cell_type": "markdown",
   "metadata": {},
   "source": [
    "## IV. Améliorer les performances"
   ]
  },
  {
   "cell_type": "markdown",
   "metadata": {},
   "source": [
    " "
   ]
  },
  {
   "cell_type": "code",
   "execution_count": 92,
   "metadata": {
    "collapsed": false
   },
   "outputs": [],
   "source": [
    "from sklearn.feature_selection import SelectKBest, f_classif\n",
    "from sklearn import cross_validation\n",
    "from sklearn.cross_validation import KFold"
   ]
  },
  {
   "cell_type": "code",
   "execution_count": 140,
   "metadata": {
    "collapsed": false
   },
   "outputs": [],
   "source": [
    "selector = SelectKBest(f_classif, k=5)\n",
    "selector = selector.fit(X, Y)\n"
   ]
  },
  {
   "cell_type": "code",
   "execution_count": 141,
   "metadata": {
    "collapsed": false
   },
   "outputs": [
    {
     "data": {
      "text/plain": [
       "Index(['Année', 'Clé', 'Durée', 'Fin du fondu', 'Fondu de fin', 'Intensité',\n",
       "       'Mode', 'Signature Temporelle', 'Tempo', 'VP1', 'VP2'],\n",
       "      dtype='object')"
      ]
     },
     "execution_count": 141,
     "metadata": {},
     "output_type": "execute_result"
    }
   ],
   "source": [
    "X.columns"
   ]
  },
  {
   "cell_type": "code",
   "execution_count": 37,
   "metadata": {
    "collapsed": false
   },
   "outputs": [
    {
     "ename": "NameError",
     "evalue": "name 'selector' is not defined",
     "output_type": "error",
     "traceback": [
      "\u001b[1;31m---------------------------------------------------------------------------\u001b[0m",
      "\u001b[1;31mNameError\u001b[0m                                 Traceback (most recent call last)",
      "\u001b[1;32m<ipython-input-37-463b268d80ea>\u001b[0m in \u001b[0;36m<module>\u001b[1;34m()\u001b[0m\n\u001b[1;32m----> 1\u001b[1;33m \u001b[0mscores\u001b[0m \u001b[1;33m=\u001b[0m \u001b[1;33m-\u001b[0m\u001b[0mnp\u001b[0m\u001b[1;33m.\u001b[0m\u001b[0mlog10\u001b[0m\u001b[1;33m(\u001b[0m\u001b[0mselector\u001b[0m\u001b[1;33m.\u001b[0m\u001b[0mpvalues_\u001b[0m\u001b[1;33m)\u001b[0m\u001b[1;33m\u001b[0m\u001b[0m\n\u001b[0m\u001b[0;32m      2\u001b[0m \u001b[0mplt\u001b[0m\u001b[1;33m.\u001b[0m\u001b[0mbar\u001b[0m\u001b[1;33m(\u001b[0m\u001b[0mrange\u001b[0m\u001b[1;33m(\u001b[0m\u001b[0mlen\u001b[0m\u001b[1;33m(\u001b[0m\u001b[0mX\u001b[0m\u001b[1;33m.\u001b[0m\u001b[0mcolumns\u001b[0m\u001b[1;33m)\u001b[0m\u001b[1;33m)\u001b[0m\u001b[1;33m,\u001b[0m \u001b[0mscores\u001b[0m\u001b[1;33m)\u001b[0m\u001b[1;33m\u001b[0m\u001b[0m\n\u001b[0;32m      3\u001b[0m \u001b[0mplt\u001b[0m\u001b[1;33m.\u001b[0m\u001b[0mxticks\u001b[0m\u001b[1;33m(\u001b[0m\u001b[0mrange\u001b[0m\u001b[1;33m(\u001b[0m\u001b[0mlen\u001b[0m\u001b[1;33m(\u001b[0m\u001b[0mX\u001b[0m\u001b[1;33m.\u001b[0m\u001b[0mcolumns\u001b[0m\u001b[1;33m)\u001b[0m\u001b[1;33m)\u001b[0m\u001b[1;33m,\u001b[0m \u001b[0mX\u001b[0m\u001b[1;33m.\u001b[0m\u001b[0mcolumns\u001b[0m\u001b[1;33m,\u001b[0m \u001b[0mrotation\u001b[0m\u001b[1;33m=\u001b[0m\u001b[1;34m'vertical'\u001b[0m\u001b[1;33m)\u001b[0m\u001b[1;33m\u001b[0m\u001b[0m\n\u001b[0;32m      4\u001b[0m \u001b[0mplt\u001b[0m\u001b[1;33m.\u001b[0m\u001b[0mshow\u001b[0m\u001b[1;33m(\u001b[0m\u001b[1;33m)\u001b[0m\u001b[1;33m\u001b[0m\u001b[0m\n",
      "\u001b[1;31mNameError\u001b[0m: name 'selector' is not defined"
     ]
    }
   ],
   "source": [
    "scores = -np.log10(selector.pvalues_)\n",
    "plt.bar(range(len(X.columns)), scores)\n",
    "plt.xticks(range(len(X.columns)), X.columns, rotation='vertical')\n",
    "plt.show()"
   ]
  },
  {
   "cell_type": "code",
   "execution_count": 45,
   "metadata": {
    "collapsed": false
   },
   "outputs": [],
   "source": [
    "X2 = X[[\"Année\",\"Clé\",\"Intensité\",\"Signature Temporelle\",\"Tempo\",\"Mode\",\"Durée\"]]\n"
   ]
  },
  {
   "cell_type": "code",
   "execution_count": null,
   "metadata": {
    "collapsed": false
   },
   "outputs": [],
   "source": []
  },
  {
   "cell_type": "code",
   "execution_count": 94,
   "metadata": {
    "collapsed": false
   },
   "outputs": [],
   "source": [
    "clf2 = Pipeline([\n",
    "      ('normalize', Normalizer()),\n",
    "      ('classification', GradientBoostingClassifier())\n",
    "    ])\n",
    "kf = KFold(4622, n_folds=4, random_state=1)\n",
    "for train, test in kf:\n",
    "    train_predictors = (X.iloc[train,:])\n",
    "    train_target = Y.iloc[train]\n",
    "    # Training the algorithm using the predictors and target.\n",
    "    clf2.fit(train_predictors, train_target)"
   ]
  },
  {
   "cell_type": "code",
   "execution_count": 95,
   "metadata": {
    "collapsed": false,
    "scrolled": true
   },
   "outputs": [
    {
     "name": "stderr",
     "output_type": "stream",
     "text": [
      "C:\\Users\\Enguérand\\AppData\\Local\\Continuum\\Anaconda3\\lib\\site-packages\\sklearn\\base.py:175: DeprecationWarning: inspect.getargspec() is deprecated, use inspect.signature() instead\n",
      "  args, varargs, kw, default = inspect.getargspec(init)\n",
      "C:\\Users\\Enguérand\\AppData\\Local\\Continuum\\Anaconda3\\lib\\site-packages\\sklearn\\base.py:175: DeprecationWarning: inspect.getargspec() is deprecated, use inspect.signature() instead\n",
      "  args, varargs, kw, default = inspect.getargspec(init)\n",
      "C:\\Users\\Enguérand\\AppData\\Local\\Continuum\\Anaconda3\\lib\\site-packages\\sklearn\\base.py:175: DeprecationWarning: inspect.getargspec() is deprecated, use inspect.signature() instead\n",
      "  args, varargs, kw, default = inspect.getargspec(init)\n",
      "C:\\Users\\Enguérand\\AppData\\Local\\Continuum\\Anaconda3\\lib\\site-packages\\sklearn\\base.py:175: DeprecationWarning: inspect.getargspec() is deprecated, use inspect.signature() instead\n",
      "  args, varargs, kw, default = inspect.getargspec(init)\n",
      "C:\\Users\\Enguérand\\AppData\\Local\\Continuum\\Anaconda3\\lib\\site-packages\\sklearn\\base.py:175: DeprecationWarning: inspect.getargspec() is deprecated, use inspect.signature() instead\n",
      "  args, varargs, kw, default = inspect.getargspec(init)\n",
      "C:\\Users\\Enguérand\\AppData\\Local\\Continuum\\Anaconda3\\lib\\site-packages\\sklearn\\base.py:175: DeprecationWarning: inspect.getargspec() is deprecated, use inspect.signature() instead\n",
      "  args, varargs, kw, default = inspect.getargspec(init)\n",
      "C:\\Users\\Enguérand\\AppData\\Local\\Continuum\\Anaconda3\\lib\\site-packages\\sklearn\\base.py:175: DeprecationWarning: inspect.getargspec() is deprecated, use inspect.signature() instead\n",
      "  args, varargs, kw, default = inspect.getargspec(init)\n",
      "C:\\Users\\Enguérand\\AppData\\Local\\Continuum\\Anaconda3\\lib\\site-packages\\sklearn\\base.py:175: DeprecationWarning: inspect.getargspec() is deprecated, use inspect.signature() instead\n",
      "  args, varargs, kw, default = inspect.getargspec(init)\n",
      "C:\\Users\\Enguérand\\AppData\\Local\\Continuum\\Anaconda3\\lib\\site-packages\\sklearn\\base.py:175: DeprecationWarning: inspect.getargspec() is deprecated, use inspect.signature() instead\n",
      "  args, varargs, kw, default = inspect.getargspec(init)\n",
      "C:\\Users\\Enguérand\\AppData\\Local\\Continuum\\Anaconda3\\lib\\site-packages\\sklearn\\base.py:175: DeprecationWarning: inspect.getargspec() is deprecated, use inspect.signature() instead\n",
      "  args, varargs, kw, default = inspect.getargspec(init)\n",
      "C:\\Users\\Enguérand\\AppData\\Local\\Continuum\\Anaconda3\\lib\\site-packages\\sklearn\\base.py:175: DeprecationWarning: inspect.getargspec() is deprecated, use inspect.signature() instead\n",
      "  args, varargs, kw, default = inspect.getargspec(init)\n",
      "C:\\Users\\Enguérand\\AppData\\Local\\Continuum\\Anaconda3\\lib\\site-packages\\sklearn\\base.py:175: DeprecationWarning: inspect.getargspec() is deprecated, use inspect.signature() instead\n",
      "  args, varargs, kw, default = inspect.getargspec(init)\n",
      "C:\\Users\\Enguérand\\AppData\\Local\\Continuum\\Anaconda3\\lib\\site-packages\\sklearn\\base.py:175: DeprecationWarning: inspect.getargspec() is deprecated, use inspect.signature() instead\n",
      "  args, varargs, kw, default = inspect.getargspec(init)\n",
      "C:\\Users\\Enguérand\\AppData\\Local\\Continuum\\Anaconda3\\lib\\site-packages\\sklearn\\base.py:175: DeprecationWarning: inspect.getargspec() is deprecated, use inspect.signature() instead\n",
      "  args, varargs, kw, default = inspect.getargspec(init)\n",
      "C:\\Users\\Enguérand\\AppData\\Local\\Continuum\\Anaconda3\\lib\\site-packages\\sklearn\\base.py:175: DeprecationWarning: inspect.getargspec() is deprecated, use inspect.signature() instead\n",
      "  args, varargs, kw, default = inspect.getargspec(init)\n",
      "C:\\Users\\Enguérand\\AppData\\Local\\Continuum\\Anaconda3\\lib\\site-packages\\sklearn\\base.py:175: DeprecationWarning: inspect.getargspec() is deprecated, use inspect.signature() instead\n",
      "  args, varargs, kw, default = inspect.getargspec(init)\n",
      "C:\\Users\\Enguérand\\AppData\\Local\\Continuum\\Anaconda3\\lib\\site-packages\\sklearn\\base.py:175: DeprecationWarning: inspect.getargspec() is deprecated, use inspect.signature() instead\n",
      "  args, varargs, kw, default = inspect.getargspec(init)\n",
      "C:\\Users\\Enguérand\\AppData\\Local\\Continuum\\Anaconda3\\lib\\site-packages\\sklearn\\base.py:175: DeprecationWarning: inspect.getargspec() is deprecated, use inspect.signature() instead\n",
      "  args, varargs, kw, default = inspect.getargspec(init)\n",
      "C:\\Users\\Enguérand\\AppData\\Local\\Continuum\\Anaconda3\\lib\\site-packages\\sklearn\\base.py:175: DeprecationWarning: inspect.getargspec() is deprecated, use inspect.signature() instead\n",
      "  args, varargs, kw, default = inspect.getargspec(init)\n",
      "C:\\Users\\Enguérand\\AppData\\Local\\Continuum\\Anaconda3\\lib\\site-packages\\sklearn\\base.py:175: DeprecationWarning: inspect.getargspec() is deprecated, use inspect.signature() instead\n",
      "  args, varargs, kw, default = inspect.getargspec(init)\n",
      "C:\\Users\\Enguérand\\AppData\\Local\\Continuum\\Anaconda3\\lib\\site-packages\\sklearn\\base.py:175: DeprecationWarning: inspect.getargspec() is deprecated, use inspect.signature() instead\n",
      "  args, varargs, kw, default = inspect.getargspec(init)\n",
      "C:\\Users\\Enguérand\\AppData\\Local\\Continuum\\Anaconda3\\lib\\site-packages\\sklearn\\base.py:175: DeprecationWarning: inspect.getargspec() is deprecated, use inspect.signature() instead\n",
      "  args, varargs, kw, default = inspect.getargspec(init)\n",
      "C:\\Users\\Enguérand\\AppData\\Local\\Continuum\\Anaconda3\\lib\\site-packages\\sklearn\\base.py:175: DeprecationWarning: inspect.getargspec() is deprecated, use inspect.signature() instead\n",
      "  args, varargs, kw, default = inspect.getargspec(init)\n",
      "C:\\Users\\Enguérand\\AppData\\Local\\Continuum\\Anaconda3\\lib\\site-packages\\sklearn\\base.py:175: DeprecationWarning: inspect.getargspec() is deprecated, use inspect.signature() instead\n",
      "  args, varargs, kw, default = inspect.getargspec(init)\n"
     ]
    }
   ],
   "source": [
    "\n",
    "scores = cross_val_score(clf2, X, Y, cv=4)\n"
   ]
  },
  {
   "cell_type": "code",
   "execution_count": 96,
   "metadata": {
    "collapsed": false
   },
   "outputs": [
    {
     "name": "stdout",
     "output_type": "stream",
     "text": [
      "0.647116366779\n"
     ]
    }
   ],
   "source": [
    "print(scores.mean())"
   ]
  },
  {
   "cell_type": "code",
   "execution_count": null,
   "metadata": {
    "collapsed": true
   },
   "outputs": [],
   "source": []
  }
 ],
 "metadata": {
  "kernelspec": {
   "display_name": "Python 3",
   "language": "python",
   "name": "python3"
  },
  "language_info": {
   "codemirror_mode": {
    "name": "ipython",
    "version": 3
   },
   "file_extension": ".py",
   "mimetype": "text/x-python",
   "name": "python",
   "nbconvert_exporter": "python",
   "pygments_lexer": "ipython3",
   "version": "3.5.0"
  }
 },
 "nbformat": 4,
 "nbformat_minor": 0
}
