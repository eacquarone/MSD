{
 "cells": [
  {
   "cell_type": "markdown",
   "metadata": {},
   "source": [
    "\n",
    "# <div style=\"text-align: center;\" markdown=\"1\">Python Project Second Year</div>\n",
    "***\n",
    "\n",
    "## <div style=\"text-align: center;\" markdown=\"1\">Predicting a song \"popularity\" with the Million Song Dataset</div>\n",
    "\n",
    "***\n"
   ]
  },
  {
   "cell_type": "markdown",
   "metadata": {},
   "source": [
    "![alt text](http://static.echonest.com/b/millionsong2.jpg)\n"
   ]
  },
  {
   "cell_type": "markdown",
   "metadata": {},
   "source": [
    "# Introduction\n",
    "\n",
    "The Million Song Dataset was a set created by __LabRosa__ (Laboratory for the Recognition and Organization of Speech and Audio)  for research purposes. It contains information on 1 million song with many parameters. We could not find the complete database but had access to two different datasets for a total of 20,000 songs. Our variable of interest is song popularity that we would like to be able to predict. In the set it is represented as a parameter called \"song hotttnesss\" it is a number creating using not only song sales but also online popularity, tweets, facebook references, views and so on. While we could use parameters that were used to create this indicator, we will instead try and find if we are able to predict this coefficient using only musical parameters. \n",
    "\n",
    "# In other words, is there a recipe for the perfect song ?"
   ]
  },
  {
   "cell_type": "markdown",
   "metadata": {},
   "source": [
    "### Plan"
   ]
  },
  {
   "cell_type": "markdown",
   "metadata": {},
   "source": [
    ">## I.  Database Cleaning and Treatments\n",
    "\n",
    ">## II. Regression Using the GradientBoostingRegressor\n",
    "\n",
    ">## III. Classification \n",
    ">> ### With a simple cross validation\n",
    ">> ### With several cross validations\n",
    "\n",
    ">## IV. Logarithmic Transformation and Classification\n",
    ">> ### Basic Classification\n",
    ">> ### Let's rock !"
   ]
  },
  {
   "cell_type": "markdown",
   "metadata": {},
   "source": [
    "# I.  Database Cleaning and Treatments\n",
    "\n"
   ]
  },
  {
   "cell_type": "markdown",
   "metadata": {},
   "source": [
    " "
   ]
  },
  {
   "cell_type": "code",
   "execution_count": 5,
   "metadata": {
    "collapsed": false
   },
   "outputs": [
    {
     "name": "stdout",
     "output_type": "stream",
     "text": [
      "Populating the interactive namespace from numpy and matplotlib\n"
     ]
    }
   ],
   "source": [
    "%pylab inline"
   ]
  },
  {
   "cell_type": "markdown",
   "metadata": {},
   "source": [
    " "
   ]
  },
  {
   "cell_type": "markdown",
   "metadata": {},
   "source": [
    "Let's start by creating a function  __get_infos__ that  will recursively collect all the informations inside the folders that contain our songs in h5 format we will need songs titles, artist name, album name to recognize them and also parameters concerning titles themselves : popularity of the song and the artist, \"familiarity\" which stands for the interactivity of artists with their audience and also music parameters : key, mode, duration, end of fade in, loudness, tempo, time signature and year. \n",
    "\n",
    "__If you're testing the code don't run the three following blocks or go get a cup of coffee__"
   ]
  },
  {
   "cell_type": "markdown",
   "metadata": {},
   "source": [
    " "
   ]
  },
  {
   "cell_type": "code",
   "execution_count": null,
   "metadata": {
    "collapsed": false
   },
   "outputs": [],
   "source": [
    "import os\n",
    "import glob\n",
    "import hdf5_getters as hd\n",
    "import pandas as pd\n",
    "\n",
    "def get_infos(basedir,ext='.h5'):\n",
    "    df = []\n",
    "    i = 0\n",
    "    for root, dirs, files in os.walk(basedir):\n",
    "        if i %20 == 0:\n",
    "            print(i)\n",
    "        files = glob.glob(os.path.join(root,'*'+ext))\n",
    "        for f in files:\n",
    "            d = {}\n",
    "            h5 = hd.open_h5_file_read(f)\n",
    "            d[\"nom chanson\"] = (hd.get_title(h5))\n",
    "            d[\"nom artiste\"] = (hd.get_artist_name(h5))\n",
    "            d[\"Danceabilité\"] = (hd.get_danceability(h5))\n",
    "            d[\"Popularité\"] = (hd.get_song_hotttnesss(h5))\n",
    "            d[\"Popularité artiste\"] = hd.get_artist_hotttnesss(h5)\n",
    "            d[\"Familiarité\"] = hd.get_artist_familiarity(h5)\n",
    "            d[\"Clé\"] = (hd.get_key(h5))\n",
    "            d[\"Durée\"] = (hd.get_duration(h5))\n",
    "            d[\"Fin du fondu\"] = (hd.get_end_of_fade_in(h5))\n",
    "            d[\"Energie\"] = (hd.get_energy(h5))\n",
    "            d[\"Intensité\"] = (hd.get_loudness(h5))\n",
    "            d[\"Mode\"] = (hd.get_mode(h5))\n",
    "            d[\"Nom Album\"] = (hd.get_release(h5))\n",
    "            d[\"Fondu de fin\"] = (hd.get_start_of_fade_out(h5))\n",
    "            d[\"Tempo\"] = (hd.get_tempo(h5))\n",
    "            d[\"Signature Temporelle\"] = (hd.get_time_signature(h5))\n",
    "            d[\"Année\"] = (hd.get_year(h5))\n",
    "            df.append(d)\n",
    "            h5.close()\n",
    "        i+=1\n",
    "    return pd.DataFrame(df)"
   ]
  },
  {
   "cell_type": "code",
   "execution_count": null,
   "metadata": {
    "collapsed": false
   },
   "outputs": [],
   "source": [
    "df = get_infos(\"C:\\\\Users\\Enguérand\\Documents\\ProjetPython2A\\dataset\\millionsongsubset_full\\MillionSongSubset\")\n"
   ]
  },
  {
   "cell_type": "code",
   "execution_count": null,
   "metadata": {
    "collapsed": false
   },
   "outputs": [],
   "source": [
    "df2 = get_infos(\"C:\\\\Users\\Enguérand\\Documents\\ProjetPython2A\\dataset\\cal10k\")"
   ]
  },
  {
   "cell_type": "markdown",
   "metadata": {},
   "source": [
    "Here we are we now save what we have made into two different datasets."
   ]
  },
  {
   "cell_type": "code",
   "execution_count": null,
   "metadata": {
    "collapsed": false,
    "scrolled": true
   },
   "outputs": [],
   "source": [
    "df.to_csv(\"base_de_depart_test.csv\",encoding = 'utf-8')\n",
    "df2.to_csv(\"base_de_depart_cal_test.csv\",encoding = 'utf-8')"
   ]
  },
  {
   "cell_type": "markdown",
   "metadata": {},
   "source": [
    "# __ START HERE IF YOU ARE TESTING THE CODE__\n",
    "\n",
    "Now we will begin, we had two datasets with a total of 20 000 song, after getting rid of lines where Popularity = 0 and NA we will fall to 7860."
   ]
  },
  {
   "cell_type": "code",
   "execution_count": 2,
   "metadata": {
    "collapsed": false
   },
   "outputs": [],
   "source": [
    "import pandas as pd\n",
    "df1= pd.read_csv(\"base_de_depart_cal_test.csv\")\n",
    "df2 = pd.read_csv(\"base_de_depart_test.csv\")\n",
    "df = df1.merge(df2, how = 'left')"
   ]
  },
  {
   "cell_type": "markdown",
   "metadata": {},
   "source": [
    "Let's clean the dataset a bit and look at what we can find inside :"
   ]
  },
  {
   "cell_type": "code",
   "execution_count": 3,
   "metadata": {
    "collapsed": false
   },
   "outputs": [
    {
     "data": {
      "text/html": [
       "<div>\n",
       "<table border=\"1\" class=\"dataframe\">\n",
       "  <thead>\n",
       "    <tr style=\"text-align: right;\">\n",
       "      <th></th>\n",
       "      <th>Unnamed: 0</th>\n",
       "      <th>Année</th>\n",
       "      <th>Clé</th>\n",
       "      <th>Danceabilité</th>\n",
       "      <th>Durée</th>\n",
       "      <th>Energie</th>\n",
       "      <th>Familiarité</th>\n",
       "      <th>Fin du fondu</th>\n",
       "      <th>Fondu de fin</th>\n",
       "      <th>Intensité</th>\n",
       "      <th>Mode</th>\n",
       "      <th>Popularité</th>\n",
       "      <th>Popularité artiste</th>\n",
       "      <th>Signature Temporelle</th>\n",
       "      <th>Tempo</th>\n",
       "    </tr>\n",
       "  </thead>\n",
       "  <tbody>\n",
       "    <tr>\n",
       "      <th>count</th>\n",
       "      <td>7860.000000</td>\n",
       "      <td>7860.000000</td>\n",
       "      <td>7860.000000</td>\n",
       "      <td>7860</td>\n",
       "      <td>7860.000000</td>\n",
       "      <td>7860</td>\n",
       "      <td>7860.000000</td>\n",
       "      <td>7860.000000</td>\n",
       "      <td>7860.000000</td>\n",
       "      <td>7860.000000</td>\n",
       "      <td>7860.000000</td>\n",
       "      <td>7860.000000</td>\n",
       "      <td>7860.000000</td>\n",
       "      <td>7860.000000</td>\n",
       "      <td>7860.000000</td>\n",
       "    </tr>\n",
       "    <tr>\n",
       "      <th>mean</th>\n",
       "      <td>4949.080025</td>\n",
       "      <td>1295.288168</td>\n",
       "      <td>5.242112</td>\n",
       "      <td>0</td>\n",
       "      <td>238.900626</td>\n",
       "      <td>0</td>\n",
       "      <td>0.702839</td>\n",
       "      <td>0.731064</td>\n",
       "      <td>229.236373</td>\n",
       "      <td>-11.445964</td>\n",
       "      <td>0.706361</td>\n",
       "      <td>0.348955</td>\n",
       "      <td>0.345650</td>\n",
       "      <td>3.520229</td>\n",
       "      <td>123.981024</td>\n",
       "    </tr>\n",
       "    <tr>\n",
       "      <th>std</th>\n",
       "      <td>2854.759618</td>\n",
       "      <td>951.406112</td>\n",
       "      <td>3.546472</td>\n",
       "      <td>0</td>\n",
       "      <td>88.814951</td>\n",
       "      <td>0</td>\n",
       "      <td>0.108695</td>\n",
       "      <td>1.689054</td>\n",
       "      <td>87.296942</td>\n",
       "      <td>5.334093</td>\n",
       "      <td>0.455457</td>\n",
       "      <td>0.218653</td>\n",
       "      <td>0.149665</td>\n",
       "      <td>1.257414</td>\n",
       "      <td>33.906117</td>\n",
       "    </tr>\n",
       "    <tr>\n",
       "      <th>min</th>\n",
       "      <td>0.000000</td>\n",
       "      <td>0.000000</td>\n",
       "      <td>0.000000</td>\n",
       "      <td>0</td>\n",
       "      <td>18.833830</td>\n",
       "      <td>0</td>\n",
       "      <td>0.000000</td>\n",
       "      <td>0.000000</td>\n",
       "      <td>18.834000</td>\n",
       "      <td>-40.362000</td>\n",
       "      <td>0.000000</td>\n",
       "      <td>0.007104</td>\n",
       "      <td>0.000000</td>\n",
       "      <td>1.000000</td>\n",
       "      <td>0.000000</td>\n",
       "    </tr>\n",
       "    <tr>\n",
       "      <th>25%</th>\n",
       "      <td>2472.750000</td>\n",
       "      <td>0.000000</td>\n",
       "      <td>2.000000</td>\n",
       "      <td>0</td>\n",
       "      <td>180.584040</td>\n",
       "      <td>0</td>\n",
       "      <td>0.651998</td>\n",
       "      <td>0.177000</td>\n",
       "      <td>171.990000</td>\n",
       "      <td>-14.380250</td>\n",
       "      <td>0.000000</td>\n",
       "      <td>0.149819</td>\n",
       "      <td>0.315398</td>\n",
       "      <td>3.000000</td>\n",
       "      <td>97.738500</td>\n",
       "    </tr>\n",
       "    <tr>\n",
       "      <th>50%</th>\n",
       "      <td>4946.500000</td>\n",
       "      <td>1986.000000</td>\n",
       "      <td>5.000000</td>\n",
       "      <td>0</td>\n",
       "      <td>223.372610</td>\n",
       "      <td>0</td>\n",
       "      <td>0.716325</td>\n",
       "      <td>0.326000</td>\n",
       "      <td>213.560000</td>\n",
       "      <td>-10.306000</td>\n",
       "      <td>1.000000</td>\n",
       "      <td>0.336133</td>\n",
       "      <td>0.379299</td>\n",
       "      <td>4.000000</td>\n",
       "      <td>120.174000</td>\n",
       "    </tr>\n",
       "    <tr>\n",
       "      <th>75%</th>\n",
       "      <td>7419.250000</td>\n",
       "      <td>2002.000000</td>\n",
       "      <td>8.000000</td>\n",
       "      <td>0</td>\n",
       "      <td>274.219952</td>\n",
       "      <td>0</td>\n",
       "      <td>0.776672</td>\n",
       "      <td>0.496000</td>\n",
       "      <td>263.102500</td>\n",
       "      <td>-7.522500</td>\n",
       "      <td>1.000000</td>\n",
       "      <td>0.518408</td>\n",
       "      <td>0.423154</td>\n",
       "      <td>4.000000</td>\n",
       "      <td>145.714000</td>\n",
       "    </tr>\n",
       "    <tr>\n",
       "      <th>max</th>\n",
       "      <td>9876.000000</td>\n",
       "      <td>2010.000000</td>\n",
       "      <td>11.000000</td>\n",
       "      <td>0</td>\n",
       "      <td>1234.206890</td>\n",
       "      <td>0</td>\n",
       "      <td>0.902741</td>\n",
       "      <td>35.254000</td>\n",
       "      <td>1225.137000</td>\n",
       "      <td>0.411000</td>\n",
       "      <td>1.000000</td>\n",
       "      <td>0.928940</td>\n",
       "      <td>1.000000</td>\n",
       "      <td>7.000000</td>\n",
       "      <td>253.469000</td>\n",
       "    </tr>\n",
       "  </tbody>\n",
       "</table>\n",
       "</div>"
      ],
      "text/plain": [
       "        Unnamed: 0        Année          Clé  Danceabilité        Durée  \\\n",
       "count  7860.000000  7860.000000  7860.000000          7860  7860.000000   \n",
       "mean   4949.080025  1295.288168     5.242112             0   238.900626   \n",
       "std    2854.759618   951.406112     3.546472             0    88.814951   \n",
       "min       0.000000     0.000000     0.000000             0    18.833830   \n",
       "25%    2472.750000     0.000000     2.000000             0   180.584040   \n",
       "50%    4946.500000  1986.000000     5.000000             0   223.372610   \n",
       "75%    7419.250000  2002.000000     8.000000             0   274.219952   \n",
       "max    9876.000000  2010.000000    11.000000             0  1234.206890   \n",
       "\n",
       "       Energie  Familiarité  Fin du fondu  Fondu de fin    Intensité  \\\n",
       "count     7860  7860.000000   7860.000000   7860.000000  7860.000000   \n",
       "mean         0     0.702839      0.731064    229.236373   -11.445964   \n",
       "std          0     0.108695      1.689054     87.296942     5.334093   \n",
       "min          0     0.000000      0.000000     18.834000   -40.362000   \n",
       "25%          0     0.651998      0.177000    171.990000   -14.380250   \n",
       "50%          0     0.716325      0.326000    213.560000   -10.306000   \n",
       "75%          0     0.776672      0.496000    263.102500    -7.522500   \n",
       "max          0     0.902741     35.254000   1225.137000     0.411000   \n",
       "\n",
       "              Mode   Popularité  Popularité artiste  Signature Temporelle  \\\n",
       "count  7860.000000  7860.000000         7860.000000           7860.000000   \n",
       "mean      0.706361     0.348955            0.345650              3.520229   \n",
       "std       0.455457     0.218653            0.149665              1.257414   \n",
       "min       0.000000     0.007104            0.000000              1.000000   \n",
       "25%       0.000000     0.149819            0.315398              3.000000   \n",
       "50%       1.000000     0.336133            0.379299              4.000000   \n",
       "75%       1.000000     0.518408            0.423154              4.000000   \n",
       "max       1.000000     0.928940            1.000000              7.000000   \n",
       "\n",
       "             Tempo  \n",
       "count  7860.000000  \n",
       "mean    123.981024  \n",
       "std      33.906117  \n",
       "min       0.000000  \n",
       "25%      97.738500  \n",
       "50%     120.174000  \n",
       "75%     145.714000  \n",
       "max     253.469000  "
      ]
     },
     "execution_count": 3,
     "metadata": {},
     "output_type": "execute_result"
    }
   ],
   "source": [
    "mask = (df['Popularité'] == 0)\n",
    "df = df.loc[~mask]\n",
    "df.dropna(inplace=True)\n",
    "df.describe()"
   ]
  },
  {
   "cell_type": "markdown",
   "metadata": {},
   "source": [
    "First we will separate numerical and categorical variables. Since categorical variables are for example \"name\" we will not need them. We define our target for the regression : Yr and to try to explain it we create the vector X. Yl will be useful later."
   ]
  },
  {
   "cell_type": "code",
   "execution_count": 6,
   "metadata": {
    "collapsed": false
   },
   "outputs": [],
   "source": [
    "import numpy\n",
    "import numpy as np\n",
    "\n",
    "numerique = [ c for c,d in zip(df.columns,df.dtypes) if (d == numpy.int64) or (d == numpy.float64) and (c not in [\"Popularité\",\"Danceabilité\",\"Energie\"]) and (c not in ['Unnamed: 0']) ]\n",
    "target = \"Popularité\"\n",
    "X = df[ numerique[1:11] ]\n",
    "Yr = df[ target ]\n",
    "Yl = Yr.apply(lambda r : ((log(r))))"
   ]
  },
  {
   "cell_type": "markdown",
   "metadata": {},
   "source": [
    "Let's first look at the target form :"
   ]
  },
  {
   "cell_type": "code",
   "execution_count": 8,
   "metadata": {
    "collapsed": false
   },
   "outputs": [
    {
     "data": {
      "image/png": "[encoded data removed]",
      "text/plain": [
       "<matplotlib.figure.Figure at 0x1cabc0897b8>"
      ]
     },
     "metadata": {},
     "output_type": "display_data"
    }
   ],
   "source": [
    "Yr.hist(figsize=(16,6), bins=100, normed = True)\n",
    "savefig(\"histo.png\")"
   ]
  },
  {
   "cell_type": "markdown",
   "metadata": {},
   "source": [
    "We have two different patterns : before the mean it looks like there are many \"poor popularity songs\" all the same popularity, very high with holes in between, after this part there is our target : a long tail of popular songs."
   ]
  },
  {
   "cell_type": "markdown",
   "metadata": {},
   "source": [
    "  "
   ]
  },
  {
   "cell_type": "markdown",
   "metadata": {},
   "source": [
    "## II. Regression using GradientBoostingRegressor"
   ]
  },
  {
   "cell_type": "markdown",
   "metadata": {},
   "source": [
    "Let's test our regression model, we started with a __Linear Regression__ and Support __Vector Regression__ with poor results, the best we could get was with a __GradientBoostingRegressor__."
   ]
  },
  {
   "cell_type": "markdown",
   "metadata": {},
   "source": [
    " "
   ]
  },
  {
   "cell_type": "code",
   "execution_count": 10,
   "metadata": {
    "collapsed": false
   },
   "outputs": [],
   "source": [
    "from sklearn.cross_validation import train_test_split\n",
    "X_train, X_test, Y_train, Y_test = train_test_split(X, Yr, test_size=0.4, random_state = 0)"
   ]
  },
  {
   "cell_type": "code",
   "execution_count": 11,
   "metadata": {
    "collapsed": false
   },
   "outputs": [],
   "source": [
    "from sklearn.pipeline import Pipeline\n",
    "from sklearn.preprocessing import Normalizer\n",
    "from sklearn.ensemble import GradientBoostingRegressor\n",
    "\n",
    "\n",
    "\n",
    "clfr = Pipeline([\n",
    "      ('normalize', Normalizer()),\n",
    "      ('regression',GradientBoostingRegressor(random_state = 0))\n",
    "    ])\n",
    "clfr = clfr.fit(X_train, Y_train.ravel())"
   ]
  },
  {
   "cell_type": "code",
   "execution_count": 12,
   "metadata": {
    "collapsed": false
   },
   "outputs": [
    {
     "data": {
      "text/plain": [
       "0.47239466995717772"
      ]
     },
     "execution_count": 12,
     "metadata": {},
     "output_type": "execute_result"
    }
   ],
   "source": [
    "from sklearn import metrics\n",
    "predicted = clfr.predict(X_test)\n",
    "expected = Y_test\n",
    "metrics.explained_variance_score(Y_train, clfr.predict(X_train))"
   ]
  },
  {
   "cell_type": "code",
   "execution_count": 13,
   "metadata": {
    "collapsed": true
   },
   "outputs": [],
   "source": [
    "%matplotlib inline\n",
    "import matplotlib.pyplot as plt\n",
    "import numpy as np"
   ]
  },
  {
   "cell_type": "code",
   "execution_count": 14,
   "metadata": {
    "collapsed": false
   },
   "outputs": [
    {
     "name": "stdout",
     "output_type": "stream",
     "text": [
      "RMS: 0.17845850677\n"
     ]
    },
    {
     "name": "stderr",
     "output_type": "stream",
     "text": [
      "C:\\Users\\Enguérand\\AppData\\Local\\Continuum\\Anaconda3\\lib\\site-packages\\matplotlib\\collections.py:590: FutureWarning: elementwise comparison failed; returning scalar instead, but in the future will perform elementwise comparison\n",
      "  if self._edgecolors == str('face'):\n"
     ]
    },
    {
     "data": {
      "image/png": "[encoded data removed]",
      "text/plain": [
       "<matplotlib.figure.Figure at 0x1cabcaddac8>"
      ]
     },
     "metadata": {},
     "output_type": "display_data"
    }
   ],
   "source": [
    "plt.scatter(expected, predicted)\n",
    "plt.plot([0, 1], [0, 1],'--k')\n",
    "plt.axis('tight')\n",
    "plt.xlabel('Vrai popularité')\n",
    "plt.ylabel('Popularité prédite')\n",
    "print(\"RMS:\", np.sqrt(np.mean((predicted - expected) ** 2)))"
   ]
  },
  {
   "cell_type": "markdown",
   "metadata": {},
   "source": [
    "Not really astonishing... Let's try some **feature selection**"
   ]
  },
  {
   "cell_type": "code",
   "execution_count": 15,
   "metadata": {
    "collapsed": false
   },
   "outputs": [
    {
     "data": {
      "text/plain": [
       "<matplotlib.text.Text at 0x1cabb707b38>"
      ]
     },
     "execution_count": 15,
     "metadata": {},
     "output_type": "execute_result"
    },
    {
     "data": {
      "image/png": "[encoded data removed]",
      "text/plain": [
       "<matplotlib.figure.Figure at 0x1cabc09a2b0>"
      ]
     },
     "metadata": {},
     "output_type": "display_data"
    }
   ],
   "source": [
    "feature_name = X.columns\n",
    "limit = 5\n",
    "feature_importance = clfr.named_steps['regression'].feature_importances_[:15]\n",
    "feature_importance = 100.0 * (feature_importance / feature_importance.max())\n",
    "sorted_idx = np.argsort(feature_importance)\n",
    "pos = np.arange(sorted_idx.shape[0]) + .5\n",
    "plt.subplot(1, 2, 2)\n",
    "plt.barh(pos, feature_importance[sorted_idx], align='center')\n",
    "plt.yticks(pos, feature_name[sorted_idx])\n",
    "plt.xlabel('Relative Importance')\n",
    "plt.title('Variable Importance')"
   ]
  },
  {
   "cell_type": "code",
   "execution_count": 16,
   "metadata": {
    "collapsed": false
   },
   "outputs": [
    {
     "name": "stdout",
     "output_type": "stream",
     "text": [
      "RMS: 0.180287899056\n"
     ]
    },
    {
     "name": "stderr",
     "output_type": "stream",
     "text": [
      "C:\\Users\\Enguérand\\AppData\\Local\\Continuum\\Anaconda3\\lib\\site-packages\\matplotlib\\collections.py:590: FutureWarning: elementwise comparison failed; returning scalar instead, but in the future will perform elementwise comparison\n",
      "  if self._edgecolors == str('face'):\n"
     ]
    },
    {
     "data": {
      "image/png": "[encoded data removed]",
      "text/plain": [
       "<matplotlib.figure.Figure at 0x1cabc04fc88>"
      ]
     },
     "metadata": {},
     "output_type": "display_data"
    }
   ],
   "source": [
    "X2 = X[[\"Familiarité\",\"Popularité artiste\",\"Signature Temporelle\",\"Mode\"]]\n",
    "X_train, X_test, Y_train, Y_test = train_test_split(X2, Yr, test_size=0.4, random_state = 0)\n",
    "clfr = Pipeline([\n",
    "      ('normalize', Normalizer()),\n",
    "      ('regression', GradientBoostingRegressor())\n",
    "    ])\n",
    "clfr = clfr.fit(X_train, Y_train.ravel())\n",
    "predicted = clfr.predict(X_test)\n",
    "expected = Y_test\n",
    "plt.scatter(expected, predicted)\n",
    "plt.plot([0, 1], [0, 1],'--k')\n",
    "plt.axis('tight')\n",
    "plt.xlabel('Actual Popularity')\n",
    "plt.ylabel('Predicted Popularity')\n",
    "print(\"RMS:\", np.sqrt(np.mean((predicted - expected) ** 2)))\n",
    "\n",
    "savefig(\"reg.png\")"
   ]
  },
  {
   "cell_type": "markdown",
   "metadata": {},
   "source": [
    "Frankly it is not really going well. But we can at least distinguish once again two categories appearing for the predicted values. We might get luckier when using a classification. __Real-world justification__ : have you ever wondered about the second decimal of an artist popularity ? No, you only wonder about whether or not an artist will be popular."
   ]
  },
  {
   "cell_type": "markdown",
   "metadata": {},
   "source": [
    " "
   ]
  },
  {
   "cell_type": "markdown",
   "metadata": {},
   "source": [
    "## III. Classification\n",
    "### 1. With a single cross-validation"
   ]
  },
  {
   "cell_type": "markdown",
   "metadata": {},
   "source": [
    " "
   ]
  },
  {
   "cell_type": "markdown",
   "metadata": {},
   "source": [
    "Let's start by splitting Y into 2 categories : less than the median tunes will be __\"unpopular\"__ and more than the median ones will be __\"popular\"__."
   ]
  },
  {
   "cell_type": "code",
   "execution_count": 17,
   "metadata": {
    "collapsed": false
   },
   "outputs": [],
   "source": [
    "Y = Yr.apply(lambda r : 1.0 if r >= Yr.median() else 0.0)"
   ]
  },
  {
   "cell_type": "markdown",
   "metadata": {},
   "source": [
    "And let's classify ! We will use a __Gradient Boosting Classifier__ since we have heterogenous data. "
   ]
  },
  {
   "cell_type": "code",
   "execution_count": 18,
   "metadata": {
    "collapsed": false
   },
   "outputs": [],
   "source": [
    "from sklearn.cross_validation import train_test_split, cross_val_score\n",
    "X_train, X_test, Y_train, Y_test = train_test_split(X, Y, test_size=0.4, random_state = 0)"
   ]
  },
  {
   "cell_type": "code",
   "execution_count": 49,
   "metadata": {
    "collapsed": false
   },
   "outputs": [],
   "source": [
    "from sklearn.pipeline import Pipeline\n",
    "from sklearn.preprocessing import Normalizer\n",
    "from sklearn.ensemble import GradientBoostingClassifier\n",
    "\n",
    "clf = Pipeline([\n",
    "      ('normalize', Normalizer()),\n",
    "      ('classifier', GradientBoostingClassifier(random_state = 1))\n",
    "    ])\n",
    "\n",
    "clf = clf.fit(X_train, Y_train.ravel())"
   ]
  },
  {
   "cell_type": "markdown",
   "metadata": {},
   "source": [
    "We will implement confusion matrix"
   ]
  },
  {
   "cell_type": "code",
   "execution_count": 50,
   "metadata": {
    "collapsed": false
   },
   "outputs": [
    {
     "name": "stdout",
     "output_type": "stream",
     "text": [
      "[[1718  619]\n",
      " [ 510 1869]]\n",
      "[[1127  473]\n",
      " [ 392 1152]]\n"
     ]
    },
    {
     "name": "stderr",
     "output_type": "stream",
     "text": [
      "C:\\Users\\Enguérand\\AppData\\Local\\Continuum\\Anaconda3\\lib\\site-packages\\matplotlib\\collections.py:590: FutureWarning: elementwise comparison failed; returning scalar instead, but in the future will perform elementwise comparison\n",
      "  if self._edgecolors == str('face'):\n"
     ]
    },
    {
     "data": {
      "image/png": "[encoded data removed]",
      "text/plain": [
       "<matplotlib.figure.Figure at 0x1cabc0d3898>"
      ]
     },
     "metadata": {},
     "output_type": "display_data"
    }
   ],
   "source": [
    "from sklearn.metrics import confusion_matrix\n",
    "for x,y in [ (X_train, Y_train), (X_test, Y_test) ]:\n",
    "    yp  = clf.predict(x)\n",
    "    cm = confusion_matrix(y.ravel(), yp.ravel())\n",
    "    print(cm)\n",
    "import matplotlib.pyplot as plt\n",
    "plt.matshow(cm)\n",
    "plt.title('Confusion matrix')\n",
    "plt.colorbar()\n",
    "plt.ylabel('True label')\n",
    "plt.xlabel('Predicted label')\n",
    "savefig(\"conf_mat1.png\")"
   ]
  },
  {
   "cell_type": "markdown",
   "metadata": {},
   "source": [
    "Not bad, we have a nice separation between the two classes. We seem to have no overfitting problem since the percentages of accurately classified labeled are almost the same for train and test. Let's observe our first scores :"
   ]
  },
  {
   "cell_type": "code",
   "execution_count": 21,
   "metadata": {
    "collapsed": false
   },
   "outputs": [
    {
     "name": "stdout",
     "output_type": "stream",
     "text": [
      "             precision    recall  f1-score   support\n",
      "\n",
      "        0.0       0.72      0.69      0.71      1593\n",
      "        1.0       0.70      0.73      0.71      1551\n",
      "\n",
      "avg / total       0.71      0.71      0.71      3144\n",
      "\n"
     ]
    }
   ],
   "source": [
    "from sklearn import metrics\n",
    "print(metrics.classification_report(Y_test,clf.predict(X_test)))"
   ]
  },
  {
   "cell_type": "markdown",
   "metadata": {},
   "source": [
    "Even though we are a little bit more precise when classifying type 0 we have roughly the same f1 scores for 0 and 1. Let's now draw these observations graphically."
   ]
  },
  {
   "cell_type": "code",
   "execution_count": 22,
   "metadata": {
    "collapsed": false
   },
   "outputs": [
    {
     "data": {
      "text/plain": [
       "array([[ 0.56049106,  0.43950894],\n",
       "       [ 0.16062409,  0.83937591],\n",
       "       [ 0.41756436,  0.58243564],\n",
       "       [ 0.45312314,  0.54687686],\n",
       "       [ 0.61089524,  0.38910476]])"
      ]
     },
     "execution_count": 22,
     "metadata": {},
     "output_type": "execute_result"
    }
   ],
   "source": [
    "from sklearn.metrics import roc_curve, auc\n",
    "probas = clf.predict_proba(X_test)\n",
    "probas[:5]"
   ]
  },
  {
   "cell_type": "code",
   "execution_count": 23,
   "metadata": {
    "collapsed": false
   },
   "outputs": [
    {
     "data": {
      "text/plain": [
       "array([[ 1.        ,  0.56049106],\n",
       "       [ 1.        ,  0.83937591],\n",
       "       [ 0.        ,  0.58243564],\n",
       "       [ 1.        ,  0.54687686],\n",
       "       [ 0.        ,  0.61089524]])"
      ]
     },
     "execution_count": 23,
     "metadata": {},
     "output_type": "execute_result"
    }
   ],
   "source": [
    "rep = [ ]\n",
    "yt = Y_test.ravel()\n",
    "for i in range(probas.shape[0]):\n",
    "    p0,p1 = probas[i,:]\n",
    "    exp = yt[i]\n",
    "    if p0 > p1 :\n",
    "        if exp == 0 :\n",
    "            # bonne réponse\n",
    "            rep.append ( (1, p0) )\n",
    "        else :\n",
    "            # mauvaise réponse\n",
    "            rep.append( (0,p0) )\n",
    "    else :\n",
    "        if exp == 0 :\n",
    "            # mauvaise réponse\n",
    "            rep.append ( (0, p1) )\n",
    "        else :\n",
    "            # bonne réponse\n",
    "            rep.append( (1,p1) )\n",
    "mat_rep = numpy.array(rep)\n",
    "mat_rep[:5]"
   ]
  },
  {
   "cell_type": "code",
   "execution_count": 24,
   "metadata": {
    "collapsed": false
   },
   "outputs": [
    {
     "data": {
      "text/plain": [
       "('taux de bonne réponse', 0.70960559796437672)"
      ]
     },
     "execution_count": 24,
     "metadata": {},
     "output_type": "execute_result"
    }
   ],
   "source": [
    "\"taux de bonne réponse\",sum(mat_rep[:,0]/len(mat_rep)) # voir matrice de confusion"
   ]
  },
  {
   "cell_type": "code",
   "execution_count": 26,
   "metadata": {
    "collapsed": false
   },
   "outputs": [
    {
     "data": {
      "image/png": "[encoded data removed]",
      "text/plain": [
       "<matplotlib.figure.Figure at 0x1cabe4e24e0>"
      ]
     },
     "metadata": {},
     "output_type": "display_data"
    }
   ],
   "source": [
    "fpr, tpr, thresholds = roc_curve(mat_rep[:,0], mat_rep[:, 1])\n",
    "roc_auc = auc(fpr, tpr)\n",
    "plt.plot(fpr, tpr, label='ROC curve (area = %0.2f)' % roc_auc)\n",
    "plt.plot([0, 1], [0, 1], 'k--')\n",
    "plt.xlim([0.0, 1.0])\n",
    "plt.ylim([0.0, 1.0])\n",
    "plt.xlabel('False Positive Rate')\n",
    "plt.ylabel('True Positive Rate')\n",
    "plt.title('ROC')\n",
    "plt.legend(loc=\"lower right\")\n",
    "savefig(\"ROC.png\")"
   ]
  },
  {
   "cell_type": "markdown",
   "metadata": {},
   "source": [
    "Not bad at all, we have a nice ROC curve and we predict relatively well the popular tunes __Let's try to make our model better__"
   ]
  },
  {
   "cell_type": "markdown",
   "metadata": {},
   "source": [
    "### 2. Several cross-validations"
   ]
  },
  {
   "cell_type": "markdown",
   "metadata": {},
   "source": [
    "We will first use the function __KFold__ in scikit in order to do 5 cross-validations and train our model on them. 5 times was empirically a good choice, improving performances without losing speed or precision."
   ]
  },
  {
   "cell_type": "markdown",
   "metadata": {},
   "source": [
    " "
   ]
  },
  {
   "cell_type": "code",
   "execution_count": 35,
   "metadata": {
    "collapsed": false
   },
   "outputs": [],
   "source": [
    "from sklearn.cross_validation import KFold\n",
    "\n",
    "clf2 = Pipeline([\n",
    "      ('normalize', Normalizer()),\n",
    "      ('classification', GradientBoostingClassifier(random_state = 1))\n",
    "    ])\n",
    "kf = KFold(7260, n_folds=5, random_state=1)\n",
    "scores = []\n",
    "for train, test in kf:\n",
    "    train_predictors = (X.iloc[train,:])\n",
    "    train_target = Y.iloc[train]\n",
    "    # Training the algorithm using the predictors and target.\n",
    "    clf2.fit(train_predictors, train_target)\n",
    "    scores.append(clf2.score(X.iloc[test,:],Y.iloc[test]))"
   ]
  },
  {
   "cell_type": "code",
   "execution_count": 61,
   "metadata": {
    "collapsed": false
   },
   "outputs": [
    {
     "data": {
      "text/plain": [
       "0.7206611570247935"
      ]
     },
     "execution_count": 61,
     "metadata": {},
     "output_type": "execute_result"
    }
   ],
   "source": [
    "sum(scores)/5"
   ]
  },
  {
   "cell_type": "markdown",
   "metadata": {
    "collapsed": true
   },
   "source": [
    "A 0.72 f1-score is really satisfying. But knowing that we are trying to predict extreme values let's use a __logarithmic transformation__."
   ]
  },
  {
   "cell_type": "markdown",
   "metadata": {},
   "source": [
    "# V. Logarithmic transformation and Classification\n",
    "## 1. Basic Classification"
   ]
  },
  {
   "cell_type": "markdown",
   "metadata": {},
   "source": [
    "Let's look at our transformed data, we now really have two different groups, let's try to identify them !"
   ]
  },
  {
   "cell_type": "code",
   "execution_count": 27,
   "metadata": {
    "collapsed": false
   },
   "outputs": [
    {
     "data": {
      "image/png": "[encoded data removed]",
      "text/plain": [
       "<matplotlib.figure.Figure at 0x1cabddb5dd8>"
      ]
     },
     "metadata": {},
     "output_type": "display_data"
    }
   ],
   "source": [
    "Yl.hist(figsize=(16,6), bins=100, normed = True)\n",
    "savefig(\"histo2.png\")"
   ]
  },
  {
   "cell_type": "code",
   "execution_count": 28,
   "metadata": {
    "collapsed": false
   },
   "outputs": [],
   "source": [
    "Y2 = Yl.apply(lambda r : 1.0 if r > Yl.median() else 0.0 )\n"
   ]
  },
  {
   "cell_type": "code",
   "execution_count": 29,
   "metadata": {
    "collapsed": false
   },
   "outputs": [],
   "source": [
    "from sklearn.cross_validation import train_test_split, cross_val_score\n",
    "X_train, X_test, Y_train, Y_test = train_test_split(X, Y2, test_size=0.4, random_state = 1)"
   ]
  },
  {
   "cell_type": "code",
   "execution_count": 47,
   "metadata": {
    "collapsed": true
   },
   "outputs": [],
   "source": [
    "from sklearn.pipeline import Pipeline\n",
    "from sklearn.preprocessing import Normalizer\n",
    "from sklearn.ensemble import GradientBoostingClassifier\n",
    "clf3 = Pipeline([\n",
    "      ('normalize', Normalizer()),\n",
    "      ('classification', GradientBoostingClassifier(random_state = 1))\n",
    "    ])\n",
    "clf3 = clf.fit(X_train, Y_train.ravel())"
   ]
  },
  {
   "cell_type": "code",
   "execution_count": 36,
   "metadata": {
    "collapsed": false
   },
   "outputs": [
    {
     "data": {
      "text/plain": [
       "0.72487277353689572"
      ]
     },
     "execution_count": 36,
     "metadata": {},
     "output_type": "execute_result"
    }
   ],
   "source": [
    "clf3.score(X_test,Y_test)"
   ]
  },
  {
   "cell_type": "markdown",
   "metadata": {},
   "source": [
    "Not bad at all it is even better than what we had with the KFold setup !"
   ]
  },
  {
   "cell_type": "code",
   "execution_count": 48,
   "metadata": {
    "collapsed": false
   },
   "outputs": [
    {
     "name": "stdout",
     "output_type": "stream",
     "text": [
      "[[1808  529]\n",
      " [ 485 1894]]\n",
      "[[1183  417]\n",
      " [ 371 1173]]\n"
     ]
    },
    {
     "name": "stderr",
     "output_type": "stream",
     "text": [
      "C:\\Users\\Enguérand\\AppData\\Local\\Continuum\\Anaconda3\\lib\\site-packages\\matplotlib\\collections.py:590: FutureWarning: elementwise comparison failed; returning scalar instead, but in the future will perform elementwise comparison\n",
      "  if self._edgecolors == str('face'):\n"
     ]
    },
    {
     "data": {
      "image/png": "[encoded data removed]",
      "text/plain": [
       "<matplotlib.figure.Figure at 0x1cabe745898>"
      ]
     },
     "metadata": {},
     "output_type": "display_data"
    }
   ],
   "source": [
    "from sklearn.metrics import confusion_matrix\n",
    "for x,y in [ (X_train, Y_train), (X_test, Y_test) ]:\n",
    "    yp  = clf3.predict(x)\n",
    "    cm = confusion_matrix(y.ravel(), yp.ravel())\n",
    "    print(cm)\n",
    "import matplotlib.pyplot as plt\n",
    "plt.matshow(cm)\n",
    "plt.title('Confusion matrix')\n",
    "plt.colorbar()\n",
    "plt.ylabel('True label')\n",
    "plt.xlabel('Predicted label')\n",
    "savefig(\"conf_mat2.png\")"
   ]
  },
  {
   "cell_type": "code",
   "execution_count": 38,
   "metadata": {
    "collapsed": false
   },
   "outputs": [
    {
     "data": {
      "text/plain": [
       "0.7206611570247935"
      ]
     },
     "execution_count": 38,
     "metadata": {},
     "output_type": "execute_result"
    }
   ],
   "source": [
    "clf4 = Pipeline([\n",
    "      ('normalize', Normalizer()),\n",
    "      ('classification', GradientBoostingClassifier(random_state = 1))\n",
    "    ])\n",
    "kf = KFold(7260, n_folds=5, random_state=1)\n",
    "scores2 = []\n",
    "for train, test in kf:\n",
    "    train_predictors = (X.iloc[train,:])\n",
    "    train_target = Y.iloc[train]\n",
    "    # Training the algorithm using the predictors and target.\n",
    "    clf4.fit(train_predictors, train_target)\n",
    "    scores2.append(clf4.score(X.iloc[test,:],Y.iloc[test]))\n",
    "mean(scores2)"
   ]
  },
  {
   "cell_type": "markdown",
   "metadata": {},
   "source": [
    "Not that satisfying but we can understand that the first cut we did with the logarithmic model was perfect for our model, we still get a better precision though !"
   ]
  },
  {
   "cell_type": "markdown",
   "metadata": {},
   "source": [
    "## 2. Let's ROCK !"
   ]
  },
  {
   "cell_type": "markdown",
   "metadata": {},
   "source": [
    "Our results are quite interesting but there are methods in Scikit to improve performance of estimators by combining them ! Indeed __Voting Classifier__s are used when you got a set of estimators with equal performances. Let's see that not only we have similar results with __Naive Bayes, Logistic Regression, Random Forest and Gradient Boosting Classifier__ but also we can improve our cross validation score by mixing these classifiers together. In order to improve our results even more and cancel overfitting effects we will also use __Grid Search__ to scale hyperparameters of Logistic Regression and Naive Bayes (the two least performant estimators we tested so far). "
   ]
  },
  {
   "cell_type": "code",
   "execution_count": 39,
   "metadata": {
    "collapsed": false,
    "scrolled": true
   },
   "outputs": [
    {
     "name": "stdout",
     "output_type": "stream",
     "text": [
      "Accuracy: 0.73 (+/- 0.02) [Logistic Regression]\n",
      "Accuracy: 0.72 (+/- 0.02) [Random Forest]\n",
      "Accuracy: 0.72 (+/- 0.01) [naive Bayes]\n",
      "Accuracy: 0.73 (+/- 0.01) [GradientBoostingRegressor]\n",
      "Accuracy: 0.75 (+/- 0.02) [Ensemble]\n"
     ]
    }
   ],
   "source": [
    "from sklearn.grid_search import GridSearchCV\n",
    "from sklearn.ensemble import VotingClassifier , RandomForestClassifier , GradientBoostingClassifier\n",
    "from sklearn.linear_model import LogisticRegression\n",
    "from sklearn.naive_bayes import GaussianNB\n",
    "from sklearn import cross_validation\n",
    "\n",
    "clf1 = LogisticRegression(random_state=1)\n",
    "clf2 = RandomForestClassifier(random_state=1)\n",
    "clf3 = GaussianNB()\n",
    "eclf = VotingClassifier(estimators=[('lr', clf1), ('rf', clf2), ('gnb', clf3),('gbc', clf4)], voting='hard')\n",
    "\n",
    "params = {'lr__C': [1.0, 100.0], 'rf__n_estimators': [20, 200],}\n",
    "\n",
    "grid = GridSearchCV(estimator=eclf, param_grid=params, cv=5)\n",
    "grid = grid.fit(X_train, Y_train.ravel())\n",
    "\n",
    "for clf, label in zip([clf1, clf2, clf3,clf4, grid], ['Logistic Regression', 'Random Forest', 'naive Bayes','GradientBoostingRegressor', 'Ensemble']):\n",
    "    scores = cross_validation.cross_val_score(clf, X_test, Y_test , cv=5, scoring='accuracy')\n",
    "    print(\"Accuracy: %0.2f (+/- %0.2f) [%s]\" % (scores.mean(), scores.std(), label))\n"
   ]
  },
  {
   "cell_type": "markdown",
   "metadata": {},
   "source": [
    "75 % accuracy !! we started with a poorly optimized regression then choose to consider a classification problem instead. When confronted to limited results we tried transforming our data then mixing estimators and scaling hyperparameters. We could probably use other methods but we will rapidly be limited by the size of our dataset.\n",
    "\n",
    "We were able to predict a song popularity using only musical parameters. Even though we could not estimate hotttnesss like a regression parameter, thus making it impossible for me to create a 0.645233551 in popularity song we were able to get nice results when we change our perspective. If being good is being better than average, then we can now estimate the parameters of a good song."
   ]
  },
  {
   "cell_type": "markdown",
   "metadata": {},
   "source": [
    "![alt text](https://upload.wikimedia.org/wikipedia/commons/9/95/Dominant_seventh_tritone_resolution.png \"Logo Title Text 1\")"
   ]
  },
  {
   "cell_type": "code",
   "execution_count": 44,
   "metadata": {
    "collapsed": false
   },
   "outputs": [
    {
     "ename": "ValueError",
     "evalue": "GMM expects at least 2 samples provided in a 2 dimensional array-like input",
     "output_type": "error",
     "traceback": [
      "\u001b[1;31m---------------------------------------------------------------------------\u001b[0m",
      "\u001b[1;31mValueError\u001b[0m                                Traceback (most recent call last)",
      "\u001b[1;32m<ipython-input-44-7b4a67e4b79d>\u001b[0m in \u001b[0;36m<module>\u001b[1;34m()\u001b[0m\n\u001b[0;32m      2\u001b[0m \u001b[1;33m\u001b[0m\u001b[0m\n\u001b[0;32m      3\u001b[0m \u001b[0mgauss\u001b[0m \u001b[1;33m=\u001b[0m \u001b[0mGMM\u001b[0m\u001b[1;33m(\u001b[0m\u001b[0mn_components\u001b[0m \u001b[1;33m=\u001b[0m \u001b[1;36m1\u001b[0m\u001b[1;33m)\u001b[0m\u001b[1;33m\u001b[0m\u001b[0m\n\u001b[1;32m----> 4\u001b[1;33m \u001b[0mgauss\u001b[0m \u001b[1;33m=\u001b[0m \u001b[0mgauss\u001b[0m\u001b[1;33m.\u001b[0m\u001b[0mfit\u001b[0m\u001b[1;33m(\u001b[0m\u001b[0mY2\u001b[0m\u001b[1;33m)\u001b[0m\u001b[1;33m\u001b[0m\u001b[0m\n\u001b[0m",
      "\u001b[1;32mC:\\Users\\Enguérand\\AppData\\Local\\Continuum\\Anaconda3\\lib\\site-packages\\sklearn\\mixture\\gmm.py\u001b[0m in \u001b[0;36mfit\u001b[1;34m(self, X, y)\u001b[0m\n\u001b[0;32m    596\u001b[0m         \u001b[0mself\u001b[0m\u001b[1;33m\u001b[0m\u001b[0m\n\u001b[0;32m    597\u001b[0m         \"\"\"\n\u001b[1;32m--> 598\u001b[1;33m         \u001b[0mself\u001b[0m\u001b[1;33m.\u001b[0m\u001b[0m_fit\u001b[0m\u001b[1;33m(\u001b[0m\u001b[0mX\u001b[0m\u001b[1;33m,\u001b[0m \u001b[0my\u001b[0m\u001b[1;33m)\u001b[0m\u001b[1;33m\u001b[0m\u001b[0m\n\u001b[0m\u001b[0;32m    599\u001b[0m         \u001b[1;32mreturn\u001b[0m \u001b[0mself\u001b[0m\u001b[1;33m\u001b[0m\u001b[0m\n\u001b[0;32m    600\u001b[0m \u001b[1;33m\u001b[0m\u001b[0m\n",
      "\u001b[1;32mC:\\Users\\Enguérand\\AppData\\Local\\Continuum\\Anaconda3\\lib\\site-packages\\sklearn\\mixture\\gmm.py\u001b[0m in \u001b[0;36m_fit\u001b[1;34m(self, X, y, do_prediction)\u001b[0m\n\u001b[0;32m    467\u001b[0m         \u001b[1;31m# initialization step\u001b[0m\u001b[1;33m\u001b[0m\u001b[1;33m\u001b[0m\u001b[0m\n\u001b[0;32m    468\u001b[0m         X = check_array(X, dtype=np.float64, ensure_min_samples=2,\n\u001b[1;32m--> 469\u001b[1;33m                         estimator=self)\n\u001b[0m\u001b[0;32m    470\u001b[0m         \u001b[1;32mif\u001b[0m \u001b[0mX\u001b[0m\u001b[1;33m.\u001b[0m\u001b[0mshape\u001b[0m\u001b[1;33m[\u001b[0m\u001b[1;36m0\u001b[0m\u001b[1;33m]\u001b[0m \u001b[1;33m<\u001b[0m \u001b[0mself\u001b[0m\u001b[1;33m.\u001b[0m\u001b[0mn_components\u001b[0m\u001b[1;33m:\u001b[0m\u001b[1;33m\u001b[0m\u001b[0m\n\u001b[0;32m    471\u001b[0m             raise ValueError(\n",
      "\u001b[1;32mC:\\Users\\Enguérand\\AppData\\Local\\Continuum\\Anaconda3\\lib\\site-packages\\sklearn\\utils\\validation.py\u001b[0m in \u001b[0;36mcheck_array\u001b[1;34m(array, accept_sparse, dtype, order, copy, force_all_finite, ensure_2d, allow_nd, ensure_min_samples, ensure_min_features, warn_on_dtype, estimator)\u001b[0m\n\u001b[0;32m    378\u001b[0m                     raise ValueError(\"%s expects at least 2 samples provided \"\n\u001b[0;32m    379\u001b[0m                                      \u001b[1;34m\"in a 2 dimensional array-like input\"\u001b[0m\u001b[1;33m\u001b[0m\u001b[0m\n\u001b[1;32m--> 380\u001b[1;33m                                      % estimator_name)\n\u001b[0m\u001b[0;32m    381\u001b[0m                 warnings.warn(\n\u001b[0;32m    382\u001b[0m                     \u001b[1;34m\"Passing 1d arrays as data is deprecated in 0.17 and will\"\u001b[0m\u001b[1;33m\u001b[0m\u001b[0m\n",
      "\u001b[1;31mValueError\u001b[0m: GMM expects at least 2 samples provided in a 2 dimensional array-like input"
     ]
    }
   ],
   "source": [
    "from sklearn.mixture import GMM\n",
    "\n",
    "gauss = GMM(n_components = 1)\n",
    "gauss = gauss.fit(Y2)"
   ]
  }
 ],
 "metadata": {
  "celltoolbar": "Raw Cell Format",
  "kernelspec": {
   "display_name": "Python 3",
   "language": "python",
   "name": "python3"
  },
  "language_info": {
   "codemirror_mode": {
    "name": "ipython",
    "version": 3
   },
   "file_extension": ".py",
   "mimetype": "text/x-python",
   "name": "python",
   "nbconvert_exporter": "python",
   "pygments_lexer": "ipython3",
   "version": "3.5.1"
  }
 },
 "nbformat": 4,
 "nbformat_minor": 0
}
